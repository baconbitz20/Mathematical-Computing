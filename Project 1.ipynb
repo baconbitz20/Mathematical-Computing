{
 "cells": [
  {
   "cell_type": "markdown",
   "metadata": {
    "deletable": false,
    "editable": false,
    "nbgrader": {
     "cell_type": "markdown",
     "checksum": "cc3f101b7b74f79153f5daeb739ea23f",
     "grade": false,
     "grade_id": "intro",
     "locked": true,
     "schema_version": 3,
     "solution": false,
     "task": false
    }
   },
   "source": [
    "# Project 1\n"    
   ]
  },
  {
   "cell_type": "markdown",
   "metadata": {
    "deletable": false,
    "editable": false,
    "nbgrader": {
     "cell_type": "markdown",
     "checksum": "3eea585374487def1f184b8efd65575f",
     "grade": false,
     "grade_id": "prob1",
     "locked": true,
     "schema_version": 3,
     "solution": false,
     "task": false
    }
   },
   "source": [
    "### Problem 1 (3 points)\n",
    "\n",
    "Consider the Taylor series\n",
    "\n",
    "$$\n",
    "\\frac{1}{2} \\ln \\left( \\frac{1 + x}{1 - x} \\right) = \\sum_{n=0}^{\\infty} \\frac{x^{2n+1}}{2n+1} \\ , \\ x \\in (-1,1)\n",
    "$$\n",
    "\n",
    "Write a function called `n_sum` which takes 2 input parameters `x` and `N` and returns the sum\n",
    "\n",
    "$$\n",
    "\\sum_{n=0}^{N} \\frac{x^{2n+1}}{2n+1}\n",
    "$$"
   ]
  },
  {
   "cell_type": "code",
   "execution_count": 4,
   "metadata": {
    "deletable": false,
    "nbgrader": {
     "cell_type": "code",
     "checksum": "40d8299cfacf83d57a60d684582cdd7f",
     "grade": false,
     "grade_id": "n_sum",
     "locked": false,
     "schema_version": 3,
     "solution": true,
     "task": false
    }
   },
   "outputs": [],
   "source": [
    "def n_sum(x,N):\n",
    "    return sum([(x**(2*n+1)/(2*n+1)) for n in range(0,N+1)])"
   ]
  },
  {
   "cell_type": "code",
   "execution_count": 5,
   "metadata": {
    "deletable": false,
    "editable": false,
    "nbgrader": {
     "cell_type": "code",
     "checksum": "c3b488bf51d0b313b83269c0aa7c7d76",
     "grade": true,
     "grade_id": "n_sum_type",
     "locked": true,
     "points": 1,
     "schema_version": 3,
     "solution": false,
     "task": false
    }
   },
   "outputs": [
    {
     "name": "stdout",
     "output_type": "stream",
     "text": [
      "Problem 1 Test 1: Success!\n"
     ]
    }
   ],
   "source": [
    "\"Check that n_sum returns the correct datatype.\"\n",
    "assert type(n_sum(1,1)) == float , \"Return value should be a float.\"\n",
    "print(\"Problem 1 Test 1: Success!\")"
   ]
  },
  {
   "cell_type": "code",
   "execution_count": 6,
   "metadata": {
    "deletable": false,
    "editable": false,
    "nbgrader": {
     "cell_type": "code",
     "checksum": "7c230f8107030f1edfd2daa4a95b80fd",
     "grade": true,
     "grade_id": "n_sum_values1",
     "locked": true,
     "points": 1,
     "schema_version": 3,
     "solution": false,
     "task": false
    }
   },
   "outputs": [
    {
     "name": "stdout",
     "output_type": "stream",
     "text": [
      "Problem 1 Test 2: Success!\n"
     ]
    }
   ],
   "source": [
    "\"Check that n_sum returns the correct values.\"\n",
    "epsilon = 10e-14\n",
    "assert abs(n_sum(1,1) - 4/3) < epsilon , \"Value n_sum(1,1) should be 4/3.\"\n",
    "print(\"Problem 1 Test 2: Success!\")"
   ]
  },
  {
   "cell_type": "code",
   "execution_count": 7,
   "metadata": {
    "deletable": false,
    "editable": false,
    "nbgrader": {
     "cell_type": "code",
     "checksum": "a0440dfd42bd172ec4773e5d1eda2238",
     "grade": true,
     "grade_id": "n_sum_values2",
     "locked": true,
     "points": 2,
     "schema_version": 3,
     "solution": false,
     "task": false
    }
   },
   "outputs": [
    {
     "name": "stdout",
     "output_type": "stream",
     "text": [
      "Problem 1 Test 3: Success!\n"
     ]
    }
   ],
   "source": [
    "\"Check that n_sum returns the correct values.\"\n",
    "epsilon = 10e-14\n",
    "assert abs(n_sum(0.2,50) - 0.20273255405408222) < epsilon , \"Value n_sum(0.2,50) should be 0.20273255405408222\"\n",
    "print(\"Problem 1 Test 3: Success!\")"
   ]
  },
  {
   "cell_type": "markdown",
   "metadata": {
    "deletable": false,
    "editable": false,
    "nbgrader": {
     "cell_type": "markdown",
     "checksum": "98acc07c8a442405a5f81b3348d0c539",
     "grade": false,
     "grade_id": "prob2",
     "locked": true,
     "schema_version": 3,
     "solution": false,
     "task": false
    }
   },
   "source": [
    "### Problem 2 (4 points)\n",
    "\n",
    "Write a function called `mn_sum` which takes 1 input parameter `N`, and returns the sum\n",
    "\n",
    "$$\n",
    "\\sum_{n=1}^{N} \\sum_{m=1}^{N} \\frac{1}{m^2 + n^2}\n",
    "$$"
   ]
  },
  {
   "cell_type": "code",
   "execution_count": 14,
   "metadata": {
    "deletable": false,
    "nbgrader": {
     "cell_type": "code",
     "checksum": "6e72487be9e8fa49781c32e5027d0b71",
     "grade": false,
     "grade_id": "mn_sum",
     "locked": false,
     "schema_version": 3,
     "solution": true,
     "task": false
    }
   },
   "outputs": [],
   "source": [
    "def mn_sum(N):\n",
    "    return sum([sum([1/(m**2+n**2) for m in range(1,N+1)]) for n in range(1,N+1)])"
   ]
  },
  {
   "cell_type": "code",
   "execution_count": 15,
   "metadata": {
    "deletable": false,
    "editable": false,
    "nbgrader": {
     "cell_type": "code",
     "checksum": "90e0ce3c60f614609671010c53179c7a",
     "grade": true,
     "grade_id": "mn_sum_type",
     "locked": true,
     "points": 1,
     "schema_version": 3,
     "solution": false,
     "task": false
    }
   },
   "outputs": [
    {
     "name": "stdout",
     "output_type": "stream",
     "text": [
      "Problem 2 Test 1: Success!\n"
     ]
    }
   ],
   "source": [
    "\"Check that mn_sum  returns the correct datatype.\"\n",
    "assert type(mn_sum(10)) == float , \"Return value should be a float.\"\n",
    "print(\"Problem 2 Test 1: Success!\")"
   ]
  },
  {
   "cell_type": "code",
   "execution_count": 16,
   "metadata": {
    "deletable": false,
    "editable": false,
    "nbgrader": {
     "cell_type": "code",
     "checksum": "d6f131c14b8193af72072d731d2934fa",
     "grade": true,
     "grade_id": "mn_sum_values1",
     "locked": true,
     "points": 1,
     "schema_version": 3,
     "solution": false,
     "task": false
    }
   },
   "outputs": [
    {
     "name": "stdout",
     "output_type": "stream",
     "text": [
      "Problem 2 Test 2: Success!\n"
     ]
    }
   ],
   "source": [
    "\"Check that mn_sum returns the correct values.\"\n",
    "epsilon = 10e-14\n",
    "assert abs(mn_sum(1) - 1/2) < epsilon , \"Value mn_sum(1) should be 1/2.\"\n",
    "print(\"Problem 2 Test 2: Success!\")"
   ]
  },
  {
   "cell_type": "code",
   "execution_count": 17,
   "metadata": {
    "deletable": false,
    "editable": false,
    "nbgrader": {
     "cell_type": "code",
     "checksum": "6fc9c492365a44c098c3dac257bf0f43",
     "grade": true,
     "grade_id": "mn_sum_values2",
     "locked": true,
     "points": 2,
     "schema_version": 3,
     "solution": false,
     "task": false
    }
   },
   "outputs": [
    {
     "name": "stdout",
     "output_type": "stream",
     "text": [
      "Problem 2 Test 3: Success!\n"
     ]
    }
   ],
   "source": [
    "\"Check that mn_sum returns the correct values.\"\n",
    "epsilon = 10e-14\n",
    "assert abs(mn_sum(2) - (1/2 + 2/5 + 1/8)) < epsilon , \"Value mn_sum(2) should be 41/40.\"\n",
    "print(\"Problem 2 Test 3: Success!\")"
   ]
  },
  {
   "cell_type": "markdown",
   "metadata": {
    "deletable": false,
    "editable": false,
    "nbgrader": {
     "cell_type": "markdown",
     "checksum": "b01be13c05168a25bdcfc7ef166c6ef1",
     "grade": false,
     "grade_id": "prob3",
     "locked": true,
     "schema_version": 3,
     "solution": false,
     "task": false
    }
   },
   "source": [
    "### Problem 3 (4 points)\n",
    "\n",
    "Represent a polynomial $p(x)=c_0+c_1x+c_2x^2+\\cdots+c_dx^d$ as a list of coefficients $[c_0,c_1,c_2,\\dots,c_d]$. Write a function called `poly_int` which takes 3 input parameters `p`, `a` and `b`, where `p` is a Python list of numbers representing a polynomial $p(x)$, and `a` and `b` are numbers. The function returns the value of the definite integral\n",
    "\n",
    "$$\n",
    "\\int_a^b p(x) \\, dx\n",
    "$$"
   ]
  },
  {
   "cell_type": "code",
   "execution_count": 42,
   "metadata": {
    "deletable": false,
    "nbgrader": {
     "cell_type": "code",
     "checksum": "5ccad09ec466018412d051ac6f11a354",
     "grade": false,
     "grade_id": "poly_int",
     "locked": false,
     "schema_version": 3,
     "solution": true,
     "task": false
    }
   },
   "outputs": [],
   "source": [
    "def take_int(num,letter,p):\n",
    "    if num == 0:\n",
    "        return num\n",
    "    return p[num-1]*(1/num)*letter**num + take_int(num - 1, letter,p)\n",
    "\n",
    "\n",
    "def poly_int(p,a,b):\n",
    "    length = len(p)\n",
    "    return take_int(length,b,p) - take_int(length,a,p)\n",
    "    \n",
    "    "
   ]
  },
  {
   "cell_type": "code",
   "execution_count": 43,
   "metadata": {
    "deletable": false,
    "editable": false,
    "nbgrader": {
     "cell_type": "code",
     "checksum": "0032a9a6442939f0ea7d96fd51b4a723",
     "grade": true,
     "grade_id": "poly_int_type",
     "locked": true,
     "points": 1,
     "schema_version": 3,
     "solution": false,
     "task": false
    }
   },
   "outputs": [
    {
     "name": "stdout",
     "output_type": "stream",
     "text": [
      "Problem 3 Test 1: Success!\n"
     ]
    }
   ],
   "source": [
    "# \"Check that poly_int returns the correct type.\"\n",
    "assert type(poly_int([1,1,1],0,1)) == float , \"Return value should be a float.\"\n",
    "print(\"Problem 3 Test 1: Success!\")"
   ]
  },
  {
   "cell_type": "code",
   "execution_count": 44,
   "metadata": {
    "deletable": false,
    "editable": false,
    "nbgrader": {
     "cell_type": "code",
     "checksum": "6636b939063a6421ad305dfd515176c3",
     "grade": true,
     "grade_id": "poly_int_values1",
     "locked": true,
     "points": 1,
     "schema_version": 3,
     "solution": false,
     "task": false
    }
   },
   "outputs": [
    {
     "name": "stdout",
     "output_type": "stream",
     "text": [
      "Problem 3 Test 2: Success!\n"
     ]
    }
   ],
   "source": [
    "\"Check that poly_int returns the correct values.\"\n",
    "epsilon = 10e-14\n",
    "assert abs(poly_int([0,1],0,1) - 1/2) < epsilon , \"Value poly_int([0,1],0,1) should be 1/2.\"\n",
    "print(\"Problem 3 Test 2: Success!\")"
   ]
  },
  {
   "cell_type": "code",
   "execution_count": 45,
   "metadata": {
    "deletable": false,
    "editable": false,
    "nbgrader": {
     "cell_type": "code",
     "checksum": "48a3f0fb082901e140da8b77071ce80a",
     "grade": true,
     "grade_id": "poly_int_values2",
     "locked": true,
     "points": 2,
     "schema_version": 3,
     "solution": false,
     "task": false
    }
   },
   "outputs": [
    {
     "name": "stdout",
     "output_type": "stream",
     "text": [
      "Problem 3 Test 3: Success!\n"
     ]
    }
   ],
   "source": [
    "\"Check that poly_int returns the correct values.\"\n",
    "epsilon = 10e-14\n",
    "assert abs(poly_int([1,1,1,1],0,1) - (1 + 1/2 + 1/3 + 1/4)) < epsilon , \"Value poly_int([1,1,1,1],0,1) should be 1 + 1/2 + 1/3 + 1/4.\"\n",
    "print(\"Problem 3 Test 3: Success!\")"
   ]
  },
  {
   "cell_type": "markdown",
   "metadata": {
    "deletable": false,
    "editable": false,
    "nbgrader": {
     "cell_type": "markdown",
     "checksum": "cc75b539fa62472493c0340f93343433",
     "grade": false,
     "grade_id": "prob4",
     "locked": true,
     "schema_version": 3,
     "solution": false,
     "task": false
    }
   },
   "source": [
    "### Problem 4  (8 points)\n",
    "\n",
    "Write a function called `statistics` which takes one input parameter `samples`, a list of numbers, and returns a tuple (of length 7) of statistics:\n",
    "\n",
    "    (mean, standard deviation, minimum, median, maximum, range, total number of samples)\n",
    "\n",
    "Recall, if `samples` is the list of numbers $[x_0,x_1,...,x_N]$ then\n",
    "\n",
    "$$\n",
    "\\begin{align}\n",
    "\\text{mean} & : & \\mu = \\frac{1}{N+1}\\sum_{k=0}^N x_k \\\\\n",
    "\\text{standard deviation} & : & \\sqrt{\\frac{\\sum_{k=0}^N (\\mu - x_k)^2}{N + 1}} \\\\\n",
    "\\text{range} & : & \\max\\{x_k\\} - \\min\\{x_k\\} \\\\\n",
    "\\end{align}\n",
    "$$\n",
    "\n",
    "The [median](https://en.wikipedia.org/wiki/Median) is the middle value if the number of samples is odd, or the median is the average of the two middle values if the number of samples is even. Use the built-in function `sorted` to sort the list of values. \n",
    "\n",
    "Remember:\n",
    "* Do not import any Python packages\n",
    "* Do not use Python keywords or built-in function names (such as `max`, `min`, and `range`) as variable names"
   ]
  },
  {
   "cell_type": "code",
   "execution_count": 51,
   "metadata": {
    "deletable": false,
    "nbgrader": {
     "cell_type": "code",
     "checksum": "8ae396711dba3edf386922c8a83b1c5f",
     "grade": false,
     "grade_id": "statistics",
     "locked": false,
     "schema_version": 3,
     "solution": true,
     "task": false
    }
   },
   "outputs": [],
   "source": [
    "def calc_range(list):\n",
    "    return max(list) - min(list)\n",
    "\n",
    "def calc_mean(list):\n",
    "    return sum([x/len(list) for x in list])\n",
    "\n",
    "def calc_stdev(list):\n",
    "    mean = calc_mean(list)\n",
    "    return (sum([(mean-x)**2 for x in list])/len(list))**0.5\n",
    "\n",
    "def calc_median(list):\n",
    "    stlist = sorted(list)\n",
    "    if  (len(list) % 2) == 1:\n",
    "        return stlist[int((len(list)-1)/2)]\n",
    "    return (stlist[int((len(list)-2)/2)] + stlist[int(len(list)/2)])/2\n",
    "\n",
    "def statistics(samples):\n",
    "    return (calc_mean(samples), \n",
    "            calc_stdev(samples), \n",
    "            min(samples), \n",
    "            calc_median(samples), \n",
    "            max(samples), \n",
    "            calc_range(samples), \n",
    "            len(samples))"
   ]
  },
  {
   "cell_type": "code",
   "execution_count": 52,
   "metadata": {
    "deletable": false,
    "editable": false,
    "nbgrader": {
     "cell_type": "code",
     "checksum": "4caa7d810f06fc22d25f11a29783e837",
     "grade": true,
     "grade_id": "statistics_type",
     "locked": true,
     "points": 1,
     "schema_version": 3,
     "solution": false,
     "task": false
    }
   },
   "outputs": [
    {
     "name": "stdout",
     "output_type": "stream",
     "text": [
      "Problem 4 Test 1: Success!\n"
     ]
    }
   ],
   "source": [
    "\"Check that statistics returns the correct datatype.\"\n",
    "assert type(statistics([1.3,5.2,3.7])) == tuple , \"Return value should be a tuple.\"\n",
    "assert len(statistics([1.3,5.2,3.7])) == 7 , \"Return value should be a tuple of length 7.\"\n",
    "print(\"Problem 4 Test 1: Success!\")"
   ]
  },
  {
   "cell_type": "code",
   "execution_count": 53,
   "metadata": {
    "deletable": false,
    "editable": false,
    "nbgrader": {
     "cell_type": "code",
     "checksum": "fa003a7f82e2244a7518d0b9c6402aad",
     "grade": true,
     "grade_id": "statistics_mean",
     "locked": true,
     "points": 1,
     "schema_version": 3,
     "solution": false,
     "task": false
    }
   },
   "outputs": [
    {
     "name": "stdout",
     "output_type": "stream",
     "text": [
      "Problem 4 Test 2: Success!\n"
     ]
    }
   ],
   "source": [
    "\"Check that statistics returns the correct mean value.\"\n",
    "epsilon = 10e-14\n",
    "assert abs(statistics([1.0,2.0,3.0])[0] - 2.0) < epsilon , \"Mean value failed.\"\n",
    "print(\"Problem 4 Test 2: Success!\")"
   ]
  },
  {
   "cell_type": "code",
   "execution_count": 54,
   "metadata": {
    "deletable": false,
    "editable": false,
    "nbgrader": {
     "cell_type": "code",
     "checksum": "815d48dc6db357179a53f3b1d2811419",
     "grade": true,
     "grade_id": "statistics_median",
     "locked": true,
     "points": 2,
     "schema_version": 3,
     "solution": false,
     "task": false
    }
   },
   "outputs": [
    {
     "name": "stdout",
     "output_type": "stream",
     "text": [
      "Problem 4 Test 3: Success!\n"
     ]
    }
   ],
   "source": [
    "\"Check that statistics returns the correct median value.\"\n",
    "assert abs(statistics([1.0,2.0,3.0])[3] - 2.0) < epsilon , \"Median value failed.\"\n",
    "print(\"Problem 4 Test 3: Success!\")"
   ]
  },
  {
   "cell_type": "code",
   "execution_count": 55,
   "metadata": {
    "deletable": false,
    "editable": false,
    "nbgrader": {
     "cell_type": "code",
     "checksum": "5ecdb1ffd58959fb5098e77e08fb97bb",
     "grade": true,
     "grade_id": "statistics_std",
     "locked": true,
     "points": 2,
     "schema_version": 3,
     "solution": false,
     "task": false
    }
   },
   "outputs": [
    {
     "name": "stdout",
     "output_type": "stream",
     "text": [
      "Problem 4 Test 4: Success!\n"
     ]
    }
   ],
   "source": [
    "\"Check that statistics returns the correct standard deviation value.\"\n",
    "epsilon = 10e-14\n",
    "assert abs(statistics([1.0,2.0,3.0])[1] - (2/3)**0.5) < epsilon , \"Standard deviation value failed.\"\n",
    "print(\"Problem 4 Test 4: Success!\")"
   ]
  },
  {
   "cell_type": "code",
   "execution_count": 56,
   "metadata": {
    "deletable": false,
    "editable": false,
    "nbgrader": {
     "cell_type": "code",
     "checksum": "4950736f088a0a2726316e8ef9b23a45",
     "grade": true,
     "grade_id": "statistics_range",
     "locked": true,
     "points": 2,
     "schema_version": 3,
     "solution": false,
     "task": false
    }
   },
   "outputs": [
    {
     "name": "stdout",
     "output_type": "stream",
     "text": [
      "Problem 4 Test 5: Success!\n"
     ]
    }
   ],
   "source": [
    "\"Check that statistics returns the correct range values.\"\n",
    "epsilon = 10e-14\n",
    "assert abs(statistics([1.0,2.0,3.0])[2] - 1.0) < epsilon , \"Minimum value failed.\"\n",
    "assert abs(statistics([1.0,2.0,3.0])[4] - 3.0) < epsilon , \"Maximum value failed.\"\n",
    "assert abs(statistics([1.0,2.0,3.0])[5] - 2.0) < epsilon , \"Range value failed.\"\n",
    "assert statistics([1.0,2.0,3.0])[6] == 3 , \"Total value failed.\"\n",
    "print(\"Problem 4 Test 5: Success!\")"
   ]
  },
  {
   "cell_type": "code",
   "execution_count": null,
   "metadata": {},
   "outputs": [],
   "source": []
  }
 ],
 "metadata": {
  "kernelspec": {
   "display_name": "Python 3",
   "language": "python",
   "name": "python3"
  },
  "language_info": {
   "codemirror_mode": {
    "name": "ipython",
    "version": 3
   },
   "file_extension": ".py",
   "mimetype": "text/x-python",
   "name": "python",
   "nbconvert_exporter": "python",
   "pygments_lexer": "ipython3",
   "version": "3.8.6"
  }
 },
 "nbformat": 4,
 "nbformat_minor": 2
}
