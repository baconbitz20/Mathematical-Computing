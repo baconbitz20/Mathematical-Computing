{
 "cells": [
  {
   "cell_type": "markdown",
   "metadata": {},
   "source": [
    "# Project 4\n"
    ]
  },
  {
   "cell_type": "code",
   "execution_count": 1,
   "metadata": {},
   "outputs": [],
   "source": [
    "import numpy as np\n",
    "import matplotlib.pyplot as plt\n",
    "import scipy.linalg as la"
   ]
  },
  {
   "cell_type": "markdown",
   "metadata": {},
   "source": [
    "### Problem 1 (5 points)\n",
    "\n",
    "Write a function called `cval` which takes a 2D NumPy array $A$ representing a square matrix and returns the value\n",
    "\n",
    "$$\n",
    "c = \\sqrt{\\frac{\\lambda_{\\max}}{\\lambda_{\\min}}}\n",
    "$$\n",
    "\n",
    "where $\\lambda_{\\max}$ and $\\lambda_{\\min}$ are the maximum and minimum eigevalues of $A^TA$. Note that the eigenvalues of $A^TA$ are real and non-negative. If $\\lambda_{\\min} < 10^{-14}$ (ie. $\\lambda_{\\min} = 0$), then return `np.inf`. If the matrix $A$ is not square, print the statement `\"Matric is not square\"` and return `None`."
   ]
  },
  {
   "cell_type": "code",
   "execution_count": 21,
   "metadata": {
    "deletable": false,
    "nbgrader": {
     "cell_type": "code",
     "checksum": "f564416a8323ca673433ca6d87229c13",
     "grade": false,
     "grade_id": "cval",
     "locked": false,
     "schema_version": 3,
     "solution": true,
     "task": false
    }
   },
   "outputs": [],
   "source": [
    "def cval(A):\n",
    "    if np.shape(A)[0] != np.shape(A)[1]:\n",
    "        print(\"Matrix is not square\")\n",
    "        return None\n",
    "    else:\n",
    "        vals = la.eig(A.T@A)[0].real\n",
    "        lmax = max(vals)\n",
    "        lmin = min(vals)\n",
    "        if lmin < 10**(-14):\n",
    "            return np.inf\n",
    "        else:\n",
    "            return np.sqrt(lmax / lmin)        "
   ]
  },
  {
   "cell_type": "code",
   "execution_count": 23,
   "metadata": {
    "deletable": false,
    "editable": false,
    "nbgrader": {
     "cell_type": "code",
     "checksum": "c1176625bbe4a90c911c44f7adcb8fd3",
     "grade": true,
     "grade_id": "cval_type",
     "locked": true,
     "points": 1,
     "schema_version": 3,
     "solution": false,
     "task": false
    }
   },
   "outputs": [
    {
     "name": "stdout",
     "output_type": "stream",
     "text": [
      "Problem 1 Test 1: Success!\n"
     ]
    }
   ],
   "source": [
    "\"Check cval returns the correct datatype for square matrix.\"\n",
    "A = np.random.rand(5,5)\n",
    "assert type(cval(A)) == np.float64 , \"Return value should be a NumPy float.\"\n",
    "print(\"Problem 1 Test 1: Success!\")"
   ]
  },
  {
   "cell_type": "code",
   "execution_count": 24,
   "metadata": {
    "deletable": false,
    "editable": false,
    "nbgrader": {
     "cell_type": "code",
     "checksum": "4f53dbd644d57fa08f1ace968e8f3450",
     "grade": true,
     "grade_id": "cval_none",
     "locked": true,
     "points": 1,
     "schema_version": 3,
     "solution": false,
     "task": false
    }
   },
   "outputs": [
    {
     "name": "stdout",
     "output_type": "stream",
     "text": [
      "Matrix is not square\n",
      "Problem 1 Test 2: Success!\n"
     ]
    }
   ],
   "source": [
    "\"Check cval returns None for non-square matrix.\"\n",
    "A = np.random.rand(3,5)\n",
    "assert cval(A) == None , \"Return value should be None when A is not square.\"\n",
    "print(\"Problem 1 Test 2: Success!\")"
   ]
  },
  {
   "cell_type": "code",
   "execution_count": 25,
   "metadata": {
    "deletable": false,
    "editable": false,
    "nbgrader": {
     "cell_type": "code",
     "checksum": "ad9012b5d6399f3b1394c85851773879",
     "grade": true,
     "grade_id": "cval_inf",
     "locked": true,
     "points": 1,
     "schema_version": 3,
     "solution": false,
     "task": false
    }
   },
   "outputs": [
    {
     "name": "stdout",
     "output_type": "stream",
     "text": [
      "Problem 1 Test 3: Success!\n"
     ]
    }
   ],
   "source": [
    "\"Check cval returns inf when \\lambda_{min} == 0.\"\n",
    "A1 = np.ones((4,4))\n",
    "assert cval(A1) == np.inf , \"Return value should be inf when det(A) = 0.\"\n",
    "print(\"Problem 1 Test 3: Success!\")"
   ]
  },
  {
   "cell_type": "code",
   "execution_count": 26,
   "metadata": {
    "deletable": false,
    "editable": false,
    "nbgrader": {
     "cell_type": "code",
     "checksum": "da511270af4a4b1ce23ba52853333f24",
     "grade": true,
     "grade_id": "cval_values",
     "locked": true,
     "points": 2,
     "schema_version": 3,
     "solution": false,
     "task": false
    }
   },
   "outputs": [
    {
     "name": "stdout",
     "output_type": "stream",
     "text": [
      "Problem 1 Test 4: Success!\n"
     ]
    }
   ],
   "source": [
    "\"Check cval returns correct values.\"\n",
    "epsilon = 10e-10\n",
    "A1 = np.eye(5)\n",
    "assert np.abs(cval(A1) - 1.0) < epsilon , \"Return value should be 1.0 for the identity matrix.\"\n",
    "A2 = np.diag(np.arange(1,9))\n",
    "assert np.abs(cval(A2) - 8.0) < epsilon , \"Return value should be 8.0 for the diagonal matrix with entries [1,2,3,4,5,6,7,8].\"\n",
    "print(\"Problem 1 Test 4: Success!\")"
   ]
  },
  {
   "cell_type": "markdown",
   "metadata": {},
   "source": [
    "### Problem 2 (5 points)\n",
    "\n",
    "\n",
    "Let $n$ be a positive integer and let $h$ be a small positive number. Let $D_n$ be the square matrix of size $n$ such that\n",
    "\n",
    "\\begin{align*}\n",
    "D_{n; 0,0} &= -\\frac{1}{h} \\\\\n",
    "D_{n; 0,1} &= \\frac{1}{h} \\\\\n",
    "D_{n; i,i+1} &= \\frac{1}{2h} \\text{ for } i=1,\\dots,n-2 \\\\\n",
    "D_{n; i+1,i} &= -\\frac{1}{2h} \\text{ for } i=0,\\dots,n-3 \\\\\n",
    "D_{n; n-1,n-2} &= -\\frac{1}{h} \\\\\n",
    "D_{n; n-1,n-1} &= \\frac{1}{h} \\\\\n",
    "\\end{align*}\n",
    "\n",
    "The subscripts $D_{n; i,j}$ indicate the entry at row index $i$ and column index $j$ of the matrix $D_n$. For example, when $n=4$ we have\n",
    "\n",
    "$$\n",
    "D_4 = \\frac{1}{2h} \\left[ \\begin{array}{rrrr}\n",
    "-2 & 2 & 0 & 0 \\\\\n",
    "-1 & 0 & 1 & 0 \\\\\n",
    "0 & -1 & 0 & 1 \\\\\n",
    "0 & 0 & -2 & 2 \\\\\n",
    "\\end{array} \\right]\n",
    "$$\n",
    "\n",
    "Write a function called `solve_D` which takes input parameters $n$, $h$ and $b$ (a 2D NumPy array of size $n$ by 1) and returns a solution of the system of equations\n",
    "\n",
    "$$\n",
    "\\left( D_n^2 - I_n \\right) x = b\n",
    "$$\n",
    "\n",
    "where $I_n$ is the identity matrix of size $n$. The return value $x$ is a 2D NumPy array of size $n$ by 1. The NumPy function `np.diag` is helpful."
   ]
  },
  {
   "cell_type": "code",
   "execution_count": 76,
   "metadata": {
    "deletable": false,
    "nbgrader": {
     "cell_type": "code",
     "checksum": "2c6c4726ae08e151581fbca15f45c29f",
     "grade": false,
     "grade_id": "solve_D",
     "locked": false,
     "schema_version": 3,
     "solution": true,
     "task": false
    }
   },
   "outputs": [],
   "source": [
    "def solve_D(n,h,b):\n",
    "    I_n = np.eye(n,n)\n",
    "    D = np.zeros((n,n))\n",
    "    D[0,0] = -2\n",
    "    D[0,1] = 2\n",
    "    D[n-1,n-2] = -2\n",
    "    D[n-1,n-1] = 2\n",
    "    for n in range(0,n-2):\n",
    "        D[n+1,n+2] = 1\n",
    "        D[n+1,n] = -1\n",
    "    D_n = (1 / (2*h))*D\n",
    "    Dif = D_n@D_n - I_n\n",
    "    return la.solve(Dif,b)"
   ]
  },
  {
   "cell_type": "code",
   "execution_count": 78,
   "metadata": {
    "deletable": false,
    "editable": false,
    "nbgrader": {
     "cell_type": "code",
     "checksum": "2c8522560edf0c0f97021e016f9aa02e",
     "grade": true,
     "grade_id": "solve_D_type",
     "locked": true,
     "points": 1,
     "schema_version": 3,
     "solution": false,
     "task": false
    }
   },
   "outputs": [
    {
     "name": "stdout",
     "output_type": "stream",
     "text": [
      "Problem 2 Test 1: Success!\n"
     ]
    }
   ],
   "source": [
    "\"Check that solve_D returns the correct type.\"\n",
    "assert type(solve_D(3,1,np.array([0,1,2]).reshape(3,1))) == np.ndarray, \"Return type should be a NumPy array.\"\n",
    "print(\"Problem 2 Test 1: Success!\")"
   ]
  },
  {
   "cell_type": "code",
   "execution_count": 79,
   "metadata": {
    "deletable": false,
    "editable": false,
    "nbgrader": {
     "cell_type": "code",
     "checksum": "bc9d8565bd389eaa8e3cf31f1fb45386",
     "grade": true,
     "grade_id": "solve_D_shape",
     "locked": true,
     "points": 1,
     "schema_version": 3,
     "solution": false,
     "task": false
    }
   },
   "outputs": [
    {
     "name": "stdout",
     "output_type": "stream",
     "text": [
      "Problem 2 Test 2: Success!\n"
     ]
    }
   ],
   "source": [
    "\"Check that solve_D returns array of the correct shape.\"\n",
    "n = np.random.randint(2,10)\n",
    "h = np.random.rand()\n",
    "b = np.arange(0,n).reshape(n,1)\n",
    "assert solve_D(n,h,b).shape == (n,1), \"Return type should be a 2D NumPy array of size (n,1).\"\n",
    "print(\"Problem 2 Test 2: Success!\")"
   ]
  },
  {
   "cell_type": "code",
   "execution_count": 80,
   "metadata": {
    "deletable": false,
    "editable": false,
    "nbgrader": {
     "cell_type": "code",
     "checksum": "ea48b141e527725c446549367cd5f6e1",
     "grade": true,
     "grade_id": "solve_D_values",
     "locked": true,
     "points": 3,
     "schema_version": 3,
     "solution": false,
     "task": false
    }
   },
   "outputs": [
    {
     "name": "stdout",
     "output_type": "stream",
     "text": [
      "Problem 2 Test 3: Success!\n"
     ]
    }
   ],
   "source": [
    "\"Check that solve_D returns the correct values.\"\n",
    "epsilon = 10e-12\n",
    "assert np.max(np.abs(solve_D(3,1,np.array([1,-2,4]).reshape(3,1)) - np.array([[-5.5],[-2.5],[-8.5]]))) < epsilon\n",
    "print(\"Problem 2 Test 3: Success!\")"
   ]
  },
  {
   "cell_type": "markdown",
   "metadata": {},
   "source": [
    "##  Problem 3 (4 points)\n",
    "\n",
    "Let $H_n$ be the square matrix of size $n$ such that\n",
    "\n",
    "$$\n",
    "H_{n; i,j} = \\frac{1}{i + j + 2} \\ \\  0 \\leq i,j < n\n",
    "$$\n",
    "\n",
    "\n",
    "The subscripts $H_{n; i,j}$ indicate the entry at row index $i$ and column index $j$ of the matrix $H_n$. For example, when $n=4$ we have\n",
    "\n",
    "$$\n",
    "H_4 = \\left[ \\begin{array}{rrrr}\n",
    "1/2 & 1/3 & 1/4 & 1/5 \\\\\n",
    "1/3 & 1/4 & 1/5 & 1/6 \\\\\n",
    "1/4 & 1/5 & 1/6 & 1/7 \\\\\n",
    "1/5 & 1/6 & 1/7 & 1/8\n",
    "\\end{array} \\right]\n",
    "$$\n",
    "\n",
    "Write a function called `solve_H` which takes input parameter $n$ and $b$ (a 2D NumPy array of size $n$ by 1), and returns a solution of the system of equations\n",
    "\n",
    "$$\n",
    "\\left( H_n^2 - I_n \\right) x = b\n",
    "$$\n",
    "\n",
    "where $I_n$ is the identity matrix of size $n$. The return value $x$ is a 2D NumPy array of size $n$ by 1."
   ]
  },
  {
   "cell_type": "markdown",
   "metadata": {},
   "source": []
  },
  {
   "cell_type": "code",
   "execution_count": 15,
   "metadata": {
    "deletable": false,
    "nbgrader": {
     "cell_type": "code",
     "checksum": "70500b09f7cb1ef0fbe7e521edce9648",
     "grade": false,
     "grade_id": "solve_H",
     "locked": false,
     "schema_version": 3,
     "solution": true,
     "task": false
    }
   },
   "outputs": [],
   "source": [
    "def solve_H(n,b):\n",
    "    H = np.fromfunction(lambda i ,j : 1/ (i + j +2), (n,n))\n",
    "    A = H@H - np.eye(n,n)\n",
    "    x = la.solve(A,b)\n",
    "    return x"
   ]
  },
  {
   "cell_type": "code",
   "execution_count": 17,
   "metadata": {
    "deletable": false,
    "editable": false,
    "nbgrader": {
     "cell_type": "code",
     "checksum": "7a4d9711657f29acefa26790f038388a",
     "grade": true,
     "grade_id": "solve_H_type",
     "locked": true,
     "points": 1,
     "schema_version": 3,
     "solution": false,
     "task": false
    }
   },
   "outputs": [
    {
     "name": "stdout",
     "output_type": "stream",
     "text": [
      "Problem 3 Test 1: Success!\n"
     ]
    }
   ],
   "source": [
    "\"Check that solve_H returns the correct type.\"\n",
    "assert type(solve_H(10,np.arange(10).reshape(10,1))) == np.ndarray, \"Return type should be a NumPy array.\"\n",
    "print(\"Problem 3 Test 1: Success!\")"
   ]
  },
  {
   "cell_type": "code",
   "execution_count": 18,
   "metadata": {
    "deletable": false,
    "editable": false,
    "nbgrader": {
     "cell_type": "code",
     "checksum": "36aa97c539e760b6320a8a963a172848",
     "grade": true,
     "grade_id": "solve_H_shape",
     "locked": true,
     "points": 1,
     "schema_version": 3,
     "solution": false,
     "task": false
    }
   },
   "outputs": [
    {
     "name": "stdout",
     "output_type": "stream",
     "text": [
      "Problem 3 Test 2: Success!\n"
     ]
    }
   ],
   "source": [
    "\"Check that solve_H returns array with correct shape.\"\n",
    "n = np.random.randint(2,10)\n",
    "b = np.random.randn(n,1)\n",
    "assert solve_H(n,b).shape == (n,1), \"Return type should be a 2D NumPy array of size n by 1.\"\n",
    "print(\"Problem 3 Test 2: Success!\")"
   ]
  },
  {
   "cell_type": "code",
   "execution_count": 19,
   "metadata": {
    "deletable": false,
    "editable": false,
    "nbgrader": {
     "cell_type": "code",
     "checksum": "1f95775211116e5679b4c815cc985a75",
     "grade": true,
     "grade_id": "solve_H_values",
     "locked": true,
     "points": 2,
     "schema_version": 3,
     "solution": false,
     "task": false
    }
   },
   "outputs": [
    {
     "name": "stdout",
     "output_type": "stream",
     "text": [
      "Problem 3 Test 3: Success!\n"
     ]
    }
   ],
   "source": [
    "\"Check that solve_H returns the correct value.\"\n",
    "epsilon = 10e-8\n",
    "x = np.array([[-3.27992737],[-3.33209729],[-3.81807645]])\n",
    "b = np.array([[0],[1],[2]])\n",
    "assert la.norm(solve_H(3,b) - x) < epsilon\n",
    "print(\"Problem 3 Test 3: Success!\")"
   ]
  },
  {
   "cell_type": "markdown",
   "metadata": {},
   "source": [
    "##  Problem 4 (6 points)\n",
    "\n",
    "Write a function called `regression_system` which takes input parameters `x`, `y` and `n` where `x` and `y` are Python lists of numbers OR 1D NumPy arrays, and `n` is a positive integer. The function returns the augemented matrix of the system of equations $X^TX \\textbf{a} = X^T \\textbf{y}$ representing the degree $n$ polynomial regression. The arrays `x` and `y` must be the same length $N$ where $N > n$. If `x` and `y` don't have the same length, or if $N \\leq n$, print an error message and return `None`."
   ]
  },
  {
   "cell_type": "code",
   "execution_count": 125,
   "metadata": {
    "deletable": false,
    "nbgrader": {
     "cell_type": "code",
     "checksum": "16c994bab3362037c2a113037e0ae9d0",
     "grade": false,
     "grade_id": "regression_system",
     "locked": false,
     "schema_version": 3,
     "solution": true,
     "task": false
    }
   },
   "outputs": [],
   "source": [
    "def regression_system(x,y,n):\n",
    "    if (len(x) != len(y) or len(x) <= n or len(y) <= n):\n",
    "        print(\"haha long boi\")\n",
    "        return None\n",
    "    else:\n",
    "        X = np.vander(x,N = n +1,increasing=True)\n",
    "        y = np.asarray(y).reshape(len(y),1)\n",
    "        Aug = np.hstack([X.T@X,X.T@y])\n",
    "        return Aug\n",
    "        \n",
    "    "
   ]
  },
  {
   "cell_type": "code",
   "execution_count": 126,
   "metadata": {},
   "outputs": [
    {
     "data": {
      "text/plain": [
       "array([[2, 1, 5],\n",
       "       [1, 1, 3]])"
      ]
     },
     "execution_count": 126,
     "metadata": {},
     "output_type": "execute_result"
    }
   ],
   "source": [
    "regression_system([0,1],[2,3],1)"
   ]
  },
  {
   "cell_type": "code",
   "execution_count": 127,
   "metadata": {
    "deletable": false,
    "editable": false,
    "nbgrader": {
     "cell_type": "code",
     "checksum": "7eef402da3fb753b63e9e0f9065583b8",
     "grade": true,
     "grade_id": "regression_system_type",
     "locked": true,
     "points": 1,
     "schema_version": 3,
     "solution": false,
     "task": false
    }
   },
   "outputs": [
    {
     "name": "stdout",
     "output_type": "stream",
     "text": [
      "Problem 4 Test 1: Success!\n"
     ]
    }
   ],
   "source": [
    "\"Check that regression_system returns the correct type.\"\n",
    "assert type(regression_system([0,1],[2,3],1)) == np.ndarray\n",
    "print(\"Problem 4 Test 1: Success!\")"
   ]
  },
  {
   "cell_type": "code",
   "execution_count": 128,
   "metadata": {
    "deletable": false,
    "editable": false,
    "nbgrader": {
     "cell_type": "code",
     "checksum": "698dc0182fe6889ad2786f7082b503eb",
     "grade": true,
     "grade_id": "regression_system_N",
     "locked": true,
     "points": 1,
     "schema_version": 3,
     "solution": false,
     "task": false
    }
   },
   "outputs": [
    {
     "name": "stdout",
     "output_type": "stream",
     "text": [
      "haha long boi\n",
      "Problem 4 Test 2: Success!\n"
     ]
    }
   ],
   "source": [
    "\"Check that regression_system returns None when x and y are not the same length.\"\n",
    "assert regression_system([0,1,2],[2,3],1) == None\n",
    "print(\"Problem 4 Test 2: Success!\")"
   ]
  },
  {
   "cell_type": "code",
   "execution_count": 129,
   "metadata": {
    "deletable": false,
    "editable": false,
    "nbgrader": {
     "cell_type": "code",
     "checksum": "cf005a47edc6edb0ebb106524174c79a",
     "grade": true,
     "grade_id": "regression_system_n",
     "locked": true,
     "points": 1,
     "schema_version": 3,
     "solution": false,
     "task": false
    }
   },
   "outputs": [
    {
     "name": "stdout",
     "output_type": "stream",
     "text": [
      "haha long boi\n",
      "Problem 4 Test 3: Success!\n"
     ]
    }
   ],
   "source": [
    "\"Check that regression_system returns None when N >= n.\"\n",
    "assert regression_system([0,1,2],[2,3,4],3) == None\n",
    "print(\"Problem 4 Test 3: Success!\")"
   ]
  },
  {
   "cell_type": "code",
   "execution_count": 130,
   "metadata": {
    "deletable": false,
    "editable": false,
    "nbgrader": {
     "cell_type": "code",
     "checksum": "b2549c955e0f180b403e8e491f9d282e",
     "grade": true,
     "grade_id": "regression_system_shape",
     "locked": true,
     "points": 1,
     "schema_version": 3,
     "solution": false,
     "task": false
    }
   },
   "outputs": [
    {
     "name": "stdout",
     "output_type": "stream",
     "text": [
      "Problem 4 Test 4: Success!\n"
     ]
    }
   ],
   "source": [
    "\"Check that regression_system returns array of the correct shape.\"\n",
    "assert regression_system([0,1],[2,3],1).shape == (2,3)\n",
    "assert regression_system([0,1,2],[2,3,4],2).shape == (3,4)\n",
    "print(\"Problem 4 Test 4: Success!\")"
   ]
  },
  {
   "cell_type": "code",
   "execution_count": 131,
   "metadata": {
    "deletable": false,
    "editable": false,
    "nbgrader": {
     "cell_type": "code",
     "checksum": "5ae127faf5ce7c4c33ad9dfdcaf12598",
     "grade": true,
     "grade_id": "regression_system_values",
     "locked": true,
     "points": 2,
     "schema_version": 3,
     "solution": false,
     "task": false
    }
   },
   "outputs": [
    {
     "name": "stdout",
     "output_type": "stream",
     "text": [
      "Problem 4 Test 5: Success!\n"
     ]
    }
   ],
   "source": [
    "\"Check that regression_system returns the correct array.\"\n",
    "epsilon = 10e-14\n",
    "assert np.max(np.abs(regression_system([0,1],[2,3],1) - np.array([[2,1,5],[1,1,3]]))) < epsilon\n",
    "print(\"Problem 4 Test 5: Success!\")"
   ]
  },
  {
   "cell_type": "code",
   "execution_count": null,
   "metadata": {},
   "outputs": [],
   "source": []
  }
 ],
 "metadata": {
  "kernelspec": {
   "display_name": "Python 3",
   "language": "python",
   "name": "python3"
  },
  "language_info": {
   "codemirror_mode": {
    "name": "ipython",
    "version": 3
   },
   "file_extension": ".py",
   "mimetype": "text/x-python",
   "name": "python",
   "nbconvert_exporter": "python",
   "pygments_lexer": "ipython3",
   "version": "3.8.6"
  }
 },
 "nbformat": 4,
 "nbformat_minor": 2
}
