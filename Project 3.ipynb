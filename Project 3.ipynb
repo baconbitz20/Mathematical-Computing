{
 "cells": [
  {
   "cell_type": "markdown",
   "metadata": {},
   "source": [
    "# Project 3\n"
   ]
  },
  {
   "cell_type": "code",
   "execution_count": 3,
   "metadata": {},
   "outputs": [],
   "source": [
    "import numpy as np\n",
    "import matplotlib.pyplot as plt\n",
    "from hashlib import sha1"
   ]
  },
  {
   "cell_type": "markdown",
   "metadata": {},
   "source": [
    "### Problem 1 (4 points)\n",
    "\n",
    "Write a function called `sum_sine_plot` which takes input parameters `a`, `b`, `N` and `num` and plots the function \n",
    "\n",
    "$$\n",
    "f(x) = \\frac{1}{2} - \\frac{1}{\\pi} \\sum_{k=1}^{N} \\frac{(-1)^k}{k} \\sin(2 \\pi k x)\n",
    "$$\n",
    "\n",
    "over the interval $[a,b]$ using `num` equally spaced points from `a` to `b`. (In other words, use `np.linspace(a,b,num)` for the `x` values.) The function also returns the `x` and `y` values of the plot in a matrix with 2 columns with `x` values in the first column and `y` values in the second. The function `np.column_stack` may be helpful.\n",
    "\n",
    "For example, the command\n",
    "\n",
    "```\n",
    "sum_sine_plot(0,5,20,500);\n",
    "```\n",
    "\n",
    "plots the figure\n",
    "\n",
    "<img src=\"http://www.math.ubc.ca/~pwalls/data/prob1.png\" style=\"width: 500px\">"
   ]
  },
  {
   "cell_type": "code",
   "execution_count": 47,
   "metadata": {
    "deletable": false,
    "nbgrader": {
     "cell_type": "code",
     "checksum": "b011f98d8987a40918699f0a7d17ccf9",
     "grade": false,
     "grade_id": "sum_sine_plot",
     "locked": false,
     "schema_version": 3,
     "solution": true,
     "task": false
    }
   },
   "outputs": [],
   "source": [
    "def sum_sine_plot(a,b,N,num):\n",
    "    x = np.linspace(a,b,num)\n",
    "    y = 1/2 - 1/np.pi * sum([(-1)**k / k * np.sin(2*np.pi*k*x) for k in range(1,N+1)])\n",
    "    plt.plot(x,y)\n",
    "    plt.show()\n",
    "    return np.column_stack((x,y))"
   ]
  },
  {
   "cell_type": "code",
   "execution_count": 46,
   "metadata": {},
   "outputs": [],
   "source": [
    "np.column_stack?"
   ]
  },
  {
   "cell_type": "code",
   "execution_count": 48,
   "metadata": {
    "collapsed": true
   },
   "outputs": [
    {
     "data": {
      "image/png": "[encoded data removed]",
      "text/plain": [
       "<Figure size 432x288 with 1 Axes>"
      ]
     },
     "metadata": {
      "needs_background": "light"
     },
     "output_type": "display_data"
    },
    {
     "data": {
      "text/plain": [
       "array([[ 0.        ,  0.5       ],\n",
       "       [ 0.01002004,  0.50255818],\n",
       "       [ 0.02004008,  0.51591838],\n",
       "       [ 0.03006012,  0.53527268],\n",
       "       [ 0.04008016,  0.54711141],\n",
       "       [ 0.0501002 ,  0.54874133],\n",
       "       [ 0.06012024,  0.5522649 ],\n",
       "       [ 0.07014028,  0.56715505],\n",
       "       [ 0.08016032,  0.58646829],\n",
       "       [ 0.09018036,  0.59672293],\n",
       "       [ 0.1002004 ,  0.59741877],\n",
       "       [ 0.11022044,  0.60199214],\n",
       "       [ 0.12024048,  0.61849487],\n",
       "       [ 0.13026052,  0.63772164],\n",
       "       [ 0.14028056,  0.64624646],\n",
       "       [ 0.1503006 ,  0.64595463],\n",
       "       [ 0.16032064,  0.65172446],\n",
       "       [ 0.17034068,  0.67001655],\n",
       "       [ 0.18036072,  0.68910117],\n",
       "       [ 0.19038076,  0.6956344 ],\n",
       "       [ 0.2004008 ,  0.69423682],\n",
       "       [ 0.21042084,  0.70144491],\n",
       "       [ 0.22044088,  0.72184456],\n",
       "       [ 0.23046092,  0.74071098],\n",
       "       [ 0.24048096,  0.74480284],\n",
       "       [ 0.250501  ,  0.74207804],\n",
       "       [ 0.26052104,  0.75113174],\n",
       "       [ 0.27054108,  0.77420367],\n",
       "       [ 0.28056112,  0.79273474],\n",
       "       [ 0.29058116,  0.79358517],\n",
       "       [ 0.3006012 ,  0.7891179 ],\n",
       "       [ 0.31062124,  0.80075468],\n",
       "       [ 0.32064128,  0.82756343],\n",
       "       [ 0.33066132,  0.84554994],\n",
       "       [ 0.34068136,  0.84159353],\n",
       "       [ 0.3507014 ,  0.83453554],\n",
       "       [ 0.36072144,  0.8502783 ],\n",
       "       [ 0.37074148,  0.88311822],\n",
       "       [ 0.38076152,  0.90009988],\n",
       "       [ 0.39078156,  0.88767246],\n",
       "       [ 0.4008016 ,  0.87593454],\n",
       "       [ 0.41082164,  0.89977797],\n",
       "       [ 0.42084168,  0.94507506],\n",
       "       [ 0.43086172,  0.95959198],\n",
       "       [ 0.44088176,  0.92633965],\n",
       "       [ 0.4509018 ,  0.90215711],\n",
       "       [ 0.46092184,  0.95217379],\n",
       "       [ 0.47094188,  1.0447163 ],\n",
       "       [ 0.48096192,  1.04336847],\n",
       "       [ 0.49098196,  0.83411728],\n",
       "       [ 0.501002  ,  0.45995782],\n",
       "       [ 0.51102204,  0.10673843],\n",
       "       [ 0.52104208, -0.05831761],\n",
       "       [ 0.53106212, -0.02859164],\n",
       "       [ 0.54108216,  0.06416873],\n",
       "       [ 0.5511022 ,  0.09770051],\n",
       "       [ 0.56112224,  0.06508469],\n",
       "       [ 0.57114228,  0.03892769],\n",
       "       [ 0.58116232,  0.06321054],\n",
       "       [ 0.59118236,  0.10804622],\n",
       "       [ 0.6012024 ,  0.12391957],\n",
       "       [ 0.61122244,  0.10845342],\n",
       "       [ 0.62124248,  0.10071798],\n",
       "       [ 0.63126253,  0.12329154],\n",
       "       [ 0.64128257,  0.15502373],\n",
       "       [ 0.65130261,  0.16532465],\n",
       "       [ 0.66132265,  0.15637835],\n",
       "       [ 0.67134269,  0.15625587],\n",
       "       [ 0.68136273,  0.17796184],\n",
       "       [ 0.69138277,  0.20328515],\n",
       "       [ 0.70140281,  0.21075255],\n",
       "       [ 0.71142285,  0.20542021],\n",
       "       [ 0.72144289,  0.20964228],\n",
       "       [ 0.73146293,  0.23077848],\n",
       "       [ 0.74148297,  0.252116  ],\n",
       "       [ 0.75150301,  0.25780638],\n",
       "       [ 0.76152305,  0.25489611],\n",
       "       [ 0.77154309,  0.26205242],\n",
       "       [ 0.78156313,  0.28274923],\n",
       "       [ 0.79158317,  0.30123477],\n",
       "       [ 0.80160321,  0.30566541],\n",
       "       [ 0.81162325,  0.30458707],\n",
       "       [ 0.82164329,  0.31395124],\n",
       "       [ 0.83166333,  0.3342692 ],\n",
       "       [ 0.84168337,  0.35050878],\n",
       "       [ 0.85170341,  0.35396959],\n",
       "       [ 0.86172345,  0.35440287],\n",
       "       [ 0.87174349,  0.36556312],\n",
       "       [ 0.88176353,  0.38552678],\n",
       "       [ 0.89178357,  0.39986512],\n",
       "       [ 0.90180361,  0.4025322 ],\n",
       "       [ 0.91182365,  0.40430036],\n",
       "       [ 0.92184369,  0.41701414],\n",
       "       [ 0.93186373,  0.43662563],\n",
       "       [ 0.94188377,  0.44925731],\n",
       "       [ 0.95190381,  0.45124191],\n",
       "       [ 0.96192385,  0.45425708],\n",
       "       [ 0.97194389,  0.46838619],\n",
       "       [ 0.98196393,  0.48763047],\n",
       "       [ 0.99198397,  0.49865034],\n",
       "       [ 1.00200401,  0.50002217],\n",
       "       [ 1.01202405,  0.5042612 ],\n",
       "       [ 1.02204409,  0.51974185],\n",
       "       [ 1.03206413,  0.53858772],\n",
       "       [ 1.04208417,  0.54801233],\n",
       "       [ 1.05210421,  0.54881071],\n",
       "       [ 1.06212425,  0.55430741],\n",
       "       [ 1.07214429,  0.57113894],\n",
       "       [ 1.08216433,  0.58953659],\n",
       "       [ 1.09218437,  0.59730801],\n",
       "       [ 1.10220441,  0.59754613],\n",
       "       [ 1.11222445,  0.6043956 ],\n",
       "       [ 1.12224449,  0.62264266],\n",
       "       [ 1.13226453,  0.64051728],\n",
       "       [ 1.14228457,  0.64649091],\n",
       "       [ 1.15230461,  0.64615461],\n",
       "       [ 1.16232465,  0.65453142],\n",
       "       [ 1.17234469,  0.67434095],\n",
       "       [ 1.18236473,  0.6915799 ],\n",
       "       [ 1.19238477,  0.69549054],\n",
       "       [ 1.20240481,  0.69453052],\n",
       "       [ 1.21242485,  0.70472967],\n",
       "       [ 1.22244489,  0.72637186],\n",
       "       [ 1.23246493,  0.74279886],\n",
       "       [ 1.24248497,  0.74418581],\n",
       "       [ 1.25250501,  0.74249822],\n",
       "       [ 1.26252505,  0.75502382],\n",
       "       [ 1.27254509,  0.77898374],\n",
       "       [ 1.28256513,  0.79430277],\n",
       "       [ 1.29258517,  0.79234025],\n",
       "       [ 1.30260521,  0.78972074],\n",
       "       [ 1.31262525,  0.80549454],\n",
       "       [ 1.32264529,  0.83269441],\n",
       "       [ 1.33266533,  0.84635042],\n",
       "       [ 1.34268537,  0.83941056],\n",
       "       [ 1.35270541,  0.83543217],\n",
       "       [ 1.36272545,  0.85637518],\n",
       "       [ 1.37274549,  0.88882014],\n",
       "       [ 1.38276553,  0.89956707],\n",
       "       [ 1.39278557,  0.88380117],\n",
       "       [ 1.40280561,  0.87740322],\n",
       "       [ 1.41282565,  0.90861725],\n",
       "       [ 1.42284569,  0.95199992],\n",
       "       [ 1.43286573,  0.95590896],\n",
       "       [ 1.44288577,  0.91807687],\n",
       "       [ 1.45290581,  0.90534176],\n",
       "       [ 1.46292585,  0.97062397],\n",
       "       [ 1.47294589,  1.05701957],\n",
       "       [ 1.48296593,  1.01952451],\n",
       "       [ 1.49298597,  0.76784306],\n",
       "       [ 1.50300601,  0.38078079],\n",
       "       [ 1.51302605,  0.05571974],\n",
       "       [ 1.52304609, -0.06496872],\n",
       "       [ 1.53306613, -0.00999982],\n",
       "       [ 1.54308617,  0.07769852],\n",
       "       [ 1.55310621,  0.09462184],\n",
       "       [ 1.56312625,  0.05689448],\n",
       "       [ 1.57314629,  0.03975406],\n",
       "       [ 1.58316633,  0.07238578],\n",
       "       [ 1.59318637,  0.11452101],\n",
       "       [ 1.60320641,  0.12236005],\n",
       "       [ 1.61322645,  0.10495918],\n",
       "       [ 1.62324649,  0.10292164],\n",
       "       [ 1.63326653,  0.13010129],\n",
       "       [ 1.64328657,  0.15933632],\n",
       "       [ 1.65330661,  0.1643139 ],\n",
       "       [ 1.66332665,  0.15476558],\n",
       "       [ 1.67334669,  0.15905889],\n",
       "       [ 1.68336673,  0.18364277],\n",
       "       [ 1.69338677,  0.20650417],\n",
       "       [ 1.70340681,  0.21004325],\n",
       "       [ 1.71342685,  0.20486885],\n",
       "       [ 1.72344689,  0.21279157],\n",
       "       [ 1.73346693,  0.23576402],\n",
       "       [ 1.74348697,  0.25464611],\n",
       "       [ 1.75350701,  0.25730121],\n",
       "       [ 1.76352705,  0.25505911],\n",
       "       [ 1.77354709,  0.2654339 ],\n",
       "       [ 1.78356713,  0.28723821],\n",
       "       [ 1.79358717,  0.30327068],\n",
       "       [ 1.80360721,  0.30531826],\n",
       "       [ 1.81362725,  0.30528833],\n",
       "       [ 1.82364729,  0.31750363],\n",
       "       [ 1.83366733,  0.33836604],\n",
       "       [ 1.84368737,  0.35215712],\n",
       "       [ 1.85370741,  0.3537571 ],\n",
       "       [ 1.86372745,  0.35554415],\n",
       "       [ 1.87374749,  0.36924979],\n",
       "       [ 1.88376754,  0.38928964],\n",
       "       [ 1.89378758,  0.40118833],\n",
       "       [ 1.90380762,  0.40244316],\n",
       "       [ 1.91382766,  0.4058251 ],\n",
       "       [ 1.9238477 ,  0.42081165],\n",
       "       [ 1.93386774,  0.44008614],\n",
       "       [ 1.94388778,  0.45029231],\n",
       "       [ 1.95390782,  0.45127286],\n",
       "       [ 1.96392786,  0.45613446],\n",
       "       [ 1.9739479 ,  0.47227897],\n",
       "       [ 1.98396794,  0.49080267],\n",
       "       [ 1.99398798,  0.49941719],\n",
       "       [ 2.00400802,  0.50017558],\n",
       "       [ 2.01402806,  0.50647888],\n",
       "       [ 2.0240481 ,  0.5237196 ],\n",
       "       [ 2.03406814,  0.54147163],\n",
       "       [ 2.04408818,  0.54851803],\n",
       "       [ 2.05410822,  0.54909467],\n",
       "       [ 2.06412826,  0.55686895],\n",
       "       [ 2.0741483 ,  0.57519535],\n",
       "       [ 2.08416834,  0.59211879],\n",
       "       [ 2.09418838,  0.59754739],\n",
       "       [ 2.10420842,  0.59797517],\n",
       "       [ 2.11422846,  0.60732125],\n",
       "       [ 2.1242485 ,  0.6267749 ],\n",
       "       [ 2.13426854,  0.6427685 ],\n",
       "       [ 2.14428858,  0.64644493],\n",
       "       [ 2.15430862,  0.646752  ],\n",
       "       [ 2.16432866,  0.65786274],\n",
       "       [ 2.1743487 ,  0.67855004],\n",
       "       [ 2.18436874,  0.69344874],\n",
       "       [ 2.19438878,  0.69512102],\n",
       "       [ 2.20440882,  0.69533311],\n",
       "       [ 2.21442886,  0.70854029],\n",
       "       [ 2.2244489 ,  0.730664  ],\n",
       "       [ 2.23446894,  0.74419802],\n",
       "       [ 2.24448898,  0.74342362],\n",
       "       [ 2.25450902,  0.74356659],\n",
       "       [ 2.26452906,  0.75944316],\n",
       "       [ 2.2745491 ,  0.78337363],\n",
       "       [ 2.28456914,  0.7950784 ],\n",
       "       [ 2.29458918,  0.79105783],\n",
       "       [ 2.30460922,  0.79116252],\n",
       "       [ 2.31462926,  0.8107648 ],\n",
       "       [ 2.3246493 ,  0.83721393],\n",
       "       [ 2.33466934,  0.84620424],\n",
       "       [ 2.34468938,  0.83734965],\n",
       "       [ 2.35470942,  0.83746577],\n",
       "       [ 2.36472946,  0.86301401],\n",
       "       [ 2.3747495 ,  0.89354444],\n",
       "       [ 2.38476954,  0.89780997],\n",
       "       [ 2.39478958,  0.88032895],\n",
       "       [ 2.40480962,  0.88058772],\n",
       "       [ 2.41482966,  0.91805465],\n",
       "       [ 2.4248497 ,  0.95715957],\n",
       "       [ 2.43486974,  0.95027971],\n",
       "       [ 2.44488978,  0.91085312],\n",
       "       [ 2.45490982,  0.912059  ],\n",
       "       [ 2.46492986,  0.99026514],\n",
       "       [ 2.4749499 ,  1.0641793 ],\n",
       "       [ 2.48496994,  0.98648706],\n",
       "       [ 2.49498998,  0.69571024],\n",
       "       [ 2.50501002,  0.30428976],\n",
       "       [ 2.51503006,  0.01351294],\n",
       "       [ 2.5250501 , -0.0641793 ],\n",
       "       [ 2.53507014,  0.00973486],\n",
       "       [ 2.54509018,  0.087941  ],\n",
       "       [ 2.55511022,  0.08914688],\n",
       "       [ 2.56513026,  0.04972029],\n",
       "       [ 2.5751503 ,  0.04284043],\n",
       "       [ 2.58517034,  0.08194535],\n",
       "       [ 2.59519038,  0.11941228],\n",
       "       [ 2.60521042,  0.11967105],\n",
       "       [ 2.61523046,  0.10219003],\n",
       "       [ 2.6252505 ,  0.10645556],\n",
       "       [ 2.63527054,  0.13698599],\n",
       "       [ 2.64529058,  0.16253423],\n",
       "       [ 2.65531062,  0.16265035],\n",
       "       [ 2.66533066,  0.15379576],\n",
       "       [ 2.6753507 ,  0.16278607],\n",
       "       [ 2.68537074,  0.1892352 ],\n",
       "       [ 2.69539078,  0.20883748],\n",
       "       [ 2.70541082,  0.20894217],\n",
       "       [ 2.71543086,  0.2049216 ],\n",
       "       [ 2.7254509 ,  0.21662637],\n",
       "       [ 2.73547094,  0.24055684],\n",
       "       [ 2.74549098,  0.25643341],\n",
       "       [ 2.75551102,  0.25657638],\n",
       "       [ 2.76553106,  0.25580198],\n",
       "       [ 2.7755511 ,  0.269336  ],\n",
       "       [ 2.78557114,  0.29145971],\n",
       "       [ 2.79559118,  0.30466689],\n",
       "       [ 2.80561122,  0.30487898],\n",
       "       [ 2.81563126,  0.30655126],\n",
       "       [ 2.8256513 ,  0.32144996],\n",
       "       [ 2.83567134,  0.34213726],\n",
       "       [ 2.84569138,  0.353248  ],\n",
       "       [ 2.85571142,  0.35355507],\n",
       "       [ 2.86573146,  0.3572315 ],\n",
       "       [ 2.8757515 ,  0.3732251 ],\n",
       "       [ 2.88577154,  0.39267875],\n",
       "       [ 2.89579158,  0.40202483],\n",
       "       [ 2.90581162,  0.40245261],\n",
       "       [ 2.91583166,  0.40788121],\n",
       "       [ 2.9258517 ,  0.42480465],\n",
       "       [ 2.93587174,  0.44313105],\n",
       "       [ 2.94589178,  0.45090533],\n",
       "       [ 2.95591182,  0.45148197],\n",
       "       [ 2.96593186,  0.45852837],\n",
       "       [ 2.9759519 ,  0.4762804 ],\n",
       "       [ 2.98597194,  0.49352112],\n",
       "       [ 2.99599198,  0.49982442],\n",
       "       [ 3.00601202,  0.50058281],\n",
       "       [ 3.01603206,  0.50919733],\n",
       "       [ 3.0260521 ,  0.52772103],\n",
       "       [ 3.03607214,  0.54386554],\n",
       "       [ 3.04609218,  0.54872714],\n",
       "       [ 3.05611222,  0.54970769],\n",
       "       [ 3.06613226,  0.55991386],\n",
       "       [ 3.0761523 ,  0.57918835],\n",
       "       [ 3.08617234,  0.5941749 ],\n",
       "       [ 3.09619238,  0.59755684],\n",
       "       [ 3.10621242,  0.59881167],\n",
       "       [ 3.11623246,  0.61071036],\n",
       "       [ 3.12625251,  0.63075021],\n",
       "       [ 3.13627255,  0.64445585],\n",
       "       [ 3.14629259,  0.6462429 ],\n",
       "       [ 3.15631263,  0.64784288],\n",
       "       [ 3.16633267,  0.66163396],\n",
       "       [ 3.17635271,  0.68249637],\n",
       "       [ 3.18637275,  0.69471167],\n",
       "       [ 3.19639279,  0.69468174],\n",
       "       [ 3.20641283,  0.69672932],\n",
       "       [ 3.21643287,  0.71276179],\n",
       "       [ 3.22645291,  0.7345661 ],\n",
       "       [ 3.23647295,  0.74494089],\n",
       "       [ 3.24649299,  0.74269879],\n",
       "       [ 3.25651303,  0.74535389],\n",
       "       [ 3.26653307,  0.76423598],\n",
       "       [ 3.27655311,  0.78720843],\n",
       "       [ 3.28657315,  0.79513115],\n",
       "       [ 3.29659319,  0.78995675],\n",
       "       [ 3.30661323,  0.79349583],\n",
       "       [ 3.31663327,  0.81635723],\n",
       "       [ 3.32665331,  0.84094111],\n",
       "       [ 3.33667335,  0.84523442],\n",
       "       [ 3.34669339,  0.8356861 ],\n",
       "       [ 3.35671343,  0.84066368],\n",
       "       [ 3.36673347,  0.86989871],\n",
       "       [ 3.37675351,  0.89707836],\n",
       "       [ 3.38677355,  0.89504082],\n",
       "       [ 3.39679359,  0.87763995],\n",
       "       [ 3.40681363,  0.88547899],\n",
       "       [ 3.41683367,  0.92761422],\n",
       "       [ 3.42685371,  0.96024594],\n",
       "       [ 3.43687375,  0.94310552],\n",
       "       [ 3.44689379,  0.90537816],\n",
       "       [ 3.45691383,  0.92230148],\n",
       "       [ 3.46693387,  1.00999982],\n",
       "       [ 3.47695391,  1.06496872],\n",
       "       [ 3.48697395,  0.94428026],\n",
       "       [ 3.49699399,  0.61921921],\n",
       "       [ 3.50701403,  0.23215694],\n",
       "       [ 3.51703407, -0.01952451],\n",
       "       [ 3.52705411, -0.05701957],\n",
       "       [ 3.53707415,  0.02937603],\n",
       "       [ 3.54709419,  0.09465824],\n",
       "       [ 3.55711423,  0.08192313],\n",
       "       [ 3.56713427,  0.04409104],\n",
       "       [ 3.57715431,  0.04800008],\n",
       "       [ 3.58717435,  0.09138275],\n",
       "       [ 3.59719439,  0.12259678],\n",
       "       [ 3.60721443,  0.11619883],\n",
       "       [ 3.61723447,  0.10043293],\n",
       "       [ 3.62725451,  0.11117986],\n",
       "       [ 3.63727455,  0.14362482],\n",
       "       [ 3.64729459,  0.16456783],\n",
       "       [ 3.65731463,  0.16058944],\n",
       "       [ 3.66733467,  0.15364958],\n",
       "       [ 3.67735471,  0.16730559],\n",
       "       [ 3.68737475,  0.19450546],\n",
       "       [ 3.69739479,  0.21027926],\n",
       "       [ 3.70741483,  0.20765975],\n",
       "       [ 3.71743487,  0.20569723],\n",
       "       [ 3.72745491,  0.22101626],\n",
       "       [ 3.73747495,  0.24497618],\n",
       "       [ 3.74749499,  0.25750178],\n",
       "       [ 3.75751503,  0.25581419],\n",
       "       [ 3.76753507,  0.25720114],\n",
       "       [ 3.77755511,  0.27362814],\n",
       "       [ 3.78757515,  0.29527033],\n",
       "       [ 3.79759519,  0.30546948],\n",
       "       [ 3.80761523,  0.30450946],\n",
       "       [ 3.81763527,  0.3084201 ],\n",
       "       [ 3.82765531,  0.32565905],\n",
       "       [ 3.83767535,  0.34546858],\n",
       "       [ 3.84769539,  0.35384539],\n",
       "       [ 3.85771543,  0.35350909],\n",
       "       [ 3.86773547,  0.35948272],\n",
       "       [ 3.87775551,  0.37735734],\n",
       "       [ 3.88777555,  0.3956044 ],\n",
       "       [ 3.89779559,  0.40245387],\n",
       "       [ 3.90781563,  0.40269199],\n",
       "       [ 3.91783567,  0.41046341],\n",
       "       [ 3.92785571,  0.42886106],\n",
       "       [ 3.93787575,  0.44569259],\n",
       "       [ 3.94789579,  0.45118929],\n",
       "       [ 3.95791583,  0.45198767],\n",
       "       [ 3.96793587,  0.46141228],\n",
       "       [ 3.97795591,  0.48025815],\n",
       "       [ 3.98797595,  0.4957388 ],\n",
       "       [ 3.99799599,  0.49997783],\n",
       "       [ 4.00801603,  0.50134966],\n",
       "       [ 4.01803607,  0.51236953],\n",
       "       [ 4.02805611,  0.53161381],\n",
       "       [ 4.03807615,  0.54574292],\n",
       "       [ 4.04809619,  0.54875809],\n",
       "       [ 4.05811623,  0.55074269],\n",
       "       [ 4.06813627,  0.56337437],\n",
       "       [ 4.07815631,  0.58298586],\n",
       "       [ 4.08817635,  0.59569964],\n",
       "       [ 4.09819639,  0.5974678 ],\n",
       "       [ 4.10821643,  0.60013488],\n",
       "       [ 4.11823647,  0.61447322],\n",
       "       [ 4.12825651,  0.63443688],\n",
       "       [ 4.13827655,  0.64559713],\n",
       "       [ 4.14829659,  0.64603041],\n",
       "       [ 4.15831663,  0.64949122],\n",
       "       [ 4.16833667,  0.6657308 ],\n",
       "       [ 4.17835671,  0.68604876],\n",
       "       [ 4.18837675,  0.69541293],\n",
       "       [ 4.19839679,  0.69433459],\n",
       "       [ 4.20841683,  0.69876523],\n",
       "       [ 4.21843687,  0.71725077],\n",
       "       [ 4.22845691,  0.73794758],\n",
       "       [ 4.23847695,  0.74510389],\n",
       "       [ 4.24849699,  0.74219362],\n",
       "       [ 4.25851703,  0.747884  ],\n",
       "       [ 4.26853707,  0.76922152],\n",
       "       [ 4.27855711,  0.79035772],\n",
       "       [ 4.28857715,  0.79457979],\n",
       "       [ 4.29859719,  0.78924745],\n",
       "       [ 4.30861723,  0.79671485],\n",
       "       [ 4.31863727,  0.82203816],\n",
       "       [ 4.32865731,  0.84374413],\n",
       "       [ 4.33867735,  0.84362165],\n",
       "       [ 4.34869739,  0.83467535],\n",
       "       [ 4.35871743,  0.84497627],\n",
       "       [ 4.36873747,  0.87670846],\n",
       "       [ 4.37875752,  0.89928202],\n",
       "       [ 4.38877756,  0.89154658],\n",
       "       [ 4.3987976 ,  0.87608043],\n",
       "       [ 4.40881764,  0.89195378],\n",
       "       [ 4.41883768,  0.93678946],\n",
       "       [ 4.42885772,  0.96107231],\n",
       "       [ 4.43887776,  0.93491531],\n",
       "       [ 4.4488978 ,  0.90229949],\n",
       "       [ 4.45891784,  0.93583127],\n",
       "       [ 4.46893788,  1.02859164],\n",
       "       [ 4.47895792,  1.05831761],\n",
       "       [ 4.48897796,  0.89326157],\n",
       "       [ 4.498998  ,  0.54004218],\n",
       "       [ 4.50901804,  0.16588272],\n",
       "       [ 4.51903808, -0.04336847],\n",
       "       [ 4.52905812, -0.0447163 ],\n",
       "       [ 4.53907816,  0.04782621],\n",
       "       [ 4.5490982 ,  0.09784289],\n",
       "       [ 4.55911824,  0.07366035],\n",
       "       [ 4.56913828,  0.04040802],\n",
       "       [ 4.57915832,  0.05492494],\n",
       "       [ 4.58917836,  0.10022203],\n",
       "       [ 4.5991984 ,  0.12406546],\n",
       "       [ 4.60921844,  0.11232754],\n",
       "       [ 4.61923848,  0.09990012],\n",
       "       [ 4.62925852,  0.11688178],\n",
       "       [ 4.63927856,  0.1497217 ],\n",
       "       [ 4.6492986 ,  0.16546446],\n",
       "       [ 4.65931864,  0.15840647],\n",
       "       [ 4.66933868,  0.15445006],\n",
       "       [ 4.67935872,  0.17243657],\n",
       "       [ 4.68937876,  0.19924532],\n",
       "       [ 4.6993988 ,  0.2108821 ],\n",
       "       [ 4.70941884,  0.20641483],\n",
       "       [ 4.71943888,  0.20726526],\n",
       "       [ 4.72945892,  0.22579633],\n",
       "       [ 4.73947896,  0.24886826],\n",
       "       [ 4.749499  ,  0.25792196],\n",
       "       [ 4.75951904,  0.25519716],\n",
       "       [ 4.76953908,  0.25928902],\n",
       "       [ 4.77955912,  0.27815544],\n",
       "       [ 4.78957916,  0.29855509],\n",
       "       [ 4.7995992 ,  0.30576318],\n",
       "       [ 4.80961924,  0.3043656 ],\n",
       "       [ 4.81963928,  0.31089883],\n",
       "       [ 4.82965932,  0.32998345],\n",
       "       [ 4.83967936,  0.34827554],\n",
       "       [ 4.8496994 ,  0.35404537],\n",
       "       [ 4.85971944,  0.35375354],\n",
       "       [ 4.86973948,  0.36227836],\n",
       "       [ 4.87975952,  0.38150513],\n",
       "       [ 4.88977956,  0.39800786],\n",
       "       [ 4.8997996 ,  0.40258123],\n",
       "       [ 4.90981964,  0.40327707],\n",
       "       [ 4.91983968,  0.41353171],\n",
       "       [ 4.92985972,  0.43284495],\n",
       "       [ 4.93987976,  0.4477351 ],\n",
       "       [ 4.9498998 ,  0.45125867],\n",
       "       [ 4.95991984,  0.45288859],\n",
       "       [ 4.96993988,  0.46472732],\n",
       "       [ 4.97995992,  0.48408162],\n",
       "       [ 4.98997996,  0.49744182],\n",
       "       [ 5.        ,  0.5       ]])"
      ]
     },
     "execution_count": 48,
     "metadata": {},
     "output_type": "execute_result"
    }
   ],
   "source": [
    "sum_sine_plot(0,5,20,500)"
   ]
  },
  {
   "cell_type": "code",
   "execution_count": 49,
   "metadata": {
    "deletable": false,
    "editable": false,
    "nbgrader": {
     "cell_type": "code",
     "checksum": "7f24d1a91c447c9b2f3206a723a8de3a",
     "grade": true,
     "grade_id": "sum_sine_plot_type",
     "locked": true,
     "points": 1,
     "schema_version": 3,
     "solution": false,
     "task": false
    }
   },
   "outputs": [
    {
     "data": {
      "image/png": "[encoded data removed]",
      "text/plain": [
       "<Figure size 432x288 with 1 Axes>"
      ]
     },
     "metadata": {
      "needs_background": "light"
     },
     "output_type": "display_data"
    },
    {
     "name": "stdout",
     "output_type": "stream",
     "text": [
      "Problem 1 Test 1: Success!\n"
     ]
    }
   ],
   "source": [
    "\"Check sum_sine_plot returns the correct datatype.\"\n",
    "assert isinstance(sum_sine_plot(0,5,20,500),np.ndarray) , \"Return value should be a NumPy array.\"\n",
    "print(\"Problem 1 Test 1: Success!\")"
   ]
  },
  {
   "cell_type": "code",
   "execution_count": 51,
   "metadata": {
    "deletable": false,
    "editable": false,
    "nbgrader": {
     "cell_type": "code",
     "checksum": "2cf76d204a7f53443b4011382c7d3c73",
     "grade": true,
     "grade_id": "sum_sine_plot_shape",
     "locked": true,
     "points": 1,
     "schema_version": 3,
     "solution": false,
     "task": false
    }
   },
   "outputs": [
    {
     "data": {
      "image/png": "[encoded data removed]",
      "text/plain": [
       "<Figure size 432x288 with 1 Axes>"
      ]
     },
     "metadata": {
      "needs_background": "light"
     },
     "output_type": "display_data"
    },
    {
     "name": "stdout",
     "output_type": "stream",
     "text": [
      "Problem 1 Test 2: Success!\n"
     ]
    }
   ],
   "source": [
    "\"Check sum_sine_plot returns the correct size of NumPy array.\"\n",
    "assert sum_sine_plot(0,5,3,200).shape == (200,2) , \"Return value should be matrix with size num by 2.\"\n",
    "print(\"Problem 1 Test 2: Success!\")"
   ]
  },
  {
   "cell_type": "code",
   "execution_count": 52,
   "metadata": {
    "collapsed": true,
    "deletable": false,
    "editable": false,
    "nbgrader": {
     "cell_type": "code",
     "checksum": "d3be5afd687ad7d14081c105f24997b9",
     "grade": true,
     "grade_id": "sum_sine_plot_values",
     "locked": true,
     "points": 2,
     "schema_version": 3,
     "solution": false,
     "task": false
    }
   },
   "outputs": [
    {
     "data": {
      "image/png": "[encoded data removed]",
      "text/plain": [
       "<Figure size 432x288 with 1 Axes>"
      ]
     },
     "metadata": {
      "needs_background": "light"
     },
     "output_type": "display_data"
    },
    {
     "name": "stdout",
     "output_type": "stream",
     "text": [
      "Problem 1 Test 3: Success!\n"
     ]
    }
   ],
   "source": [
    "\"Check sum_sine_plot returns the correct values.\"\n",
    "epsilon = 10e-7\n",
    "M = sum_sine_plot(0,4,20,1000)\n",
    "ans1 = np.array([[0.,0.5],[0.004004,0.50017506],[0.00800801,0.50134576]])\n",
    "ans2 = np.array([[2.002002,0.5000221],[2.00600601,0.5005811],[2.01001001,0.50255093]])\n",
    "ans3 = np.array([[3.99199199,0.49865424],[3.995996,0.49982494],[4.,0.5]])\n",
    "assert np.max(np.abs(M[:3,:] - ans1)) < epsilon\n",
    "assert np.max(np.abs(M[500:503,:] - ans2)) < epsilon\n",
    "assert np.max(np.abs(M[-3:,:] - ans3)) < epsilon\n",
    "print(\"Problem 1 Test 3: Success!\")"
   ]
  },
  {
   "cell_type": "markdown",
   "metadata": {},
   "source": [
    "### Problem 2 (6 points)\n",
    "\n",
    "Write a function called `k_product` which takes an input parameter `N` and returns the product\n",
    "\n",
    "$$\n",
    "\\prod_{k=1}^N \\left( 1 - \\frac{1}{(2k)^2} \\right)\n",
    "$$\n",
    "\n",
    "Use the function `np.prod` with NumPy arrays. Note the infinite product is\n",
    "\n",
    "$$\n",
    "\\prod_{k=1}^{\\infty} \\left( 1 - \\frac{1}{(2k)^2} \\right) = \\frac{2}{\\pi}\n",
    "$$"
   ]
  },
  {
   "cell_type": "code",
   "execution_count": 75,
   "metadata": {
    "deletable": false,
    "nbgrader": {
     "cell_type": "code",
     "checksum": "f49ee79fcded0a9350538d38c8f55ee0",
     "grade": false,
     "grade_id": "k_product",
     "locked": false,
     "schema_version": 3,
     "solution": true,
     "task": false
    }
   },
   "outputs": [],
   "source": [
    "def k_product(N):\n",
    "    ary = np.array([1-1 / (2*k)**2 for k in range(1,N+1)])\n",
    "    return np.prod(ary)"
   ]
  },
  {
   "cell_type": "code",
   "execution_count": 76,
   "metadata": {
    "deletable": false,
    "editable": false,
    "nbgrader": {
     "cell_type": "code",
     "checksum": "4e8ad933ccc3293d9c029c1384c63e42",
     "grade": true,
     "grade_id": "k_product_type",
     "locked": true,
     "points": 1,
     "schema_version": 3,
     "solution": false,
     "task": false
    }
   },
   "outputs": [
    {
     "name": "stdout",
     "output_type": "stream",
     "text": [
      "Problem 2 Test 1: Success!\n"
     ]
    }
   ],
   "source": [
    "\"Check that k_product returns the correct datatype.\"\n",
    "assert isinstance(k_product(7),np.float64) , \"Return value should be a NumPy float.\"\n",
    "print(\"Problem 2 Test 1: Success!\")"
   ]
  },
  {
   "cell_type": "code",
   "execution_count": 77,
   "metadata": {
    "deletable": false,
    "editable": false,
    "nbgrader": {
     "cell_type": "code",
     "checksum": "4877c58ea1fa5a5dc0a03448a0c920ba",
     "grade": true,
     "grade_id": "k_product_values1",
     "locked": true,
     "points": 1,
     "schema_version": 3,
     "solution": false,
     "task": false
    }
   },
   "outputs": [
    {
     "name": "stdout",
     "output_type": "stream",
     "text": [
      "Problem 2 Test 2: Success!\n"
     ]
    }
   ],
   "source": [
    "\"Check that k_product returns the correct values.\"\n",
    "assert k_product(1) == 3/4 , \"Return value should be 3/4 when N=1.\"\n",
    "print(\"Problem 2 Test 2: Success!\")"
   ]
  },
  {
   "cell_type": "code",
   "execution_count": 78,
   "metadata": {
    "deletable": false,
    "editable": false,
    "nbgrader": {
     "cell_type": "code",
     "checksum": "1d0835c9cc23865c6dc55ce342a95568",
     "grade": true,
     "grade_id": "k_product_values2",
     "locked": true,
     "points": 2,
     "schema_version": 3,
     "solution": false,
     "task": false
    }
   },
   "outputs": [
    {
     "name": "stdout",
     "output_type": "stream",
     "text": [
      "Problem 2 Test 3: Success!\n"
     ]
    }
   ],
   "source": [
    "\"Check that k_product returns the correct values.\"\n",
    "epsilon = 10e-5\n",
    "assert np.abs(k_product(12) - 0.6494768875896284) < epsilon , \"Return value should be 0.6494768875896284 when N=12.\"\n",
    "print(\"Problem 2 Test 3: Success!\")"
   ]
  },
  {
   "cell_type": "markdown",
   "metadata": {},
   "source": [
    "What is the smallest value $N$ which approximates $\\frac{2}{\\pi}$ with error less than 0.0001? Save your response to the variable $N$."
   ]
  },
  {
   "cell_type": "code",
   "execution_count": 86,
   "metadata": {
    "deletable": false,
    "nbgrader": {
     "cell_type": "code",
     "checksum": "aea751e774802ea90b63b71625e86956",
     "grade": false,
     "grade_id": "k_product_N",
     "locked": false,
     "schema_version": 3,
     "solution": true,
     "task": false
    },
    "scrolled": false
   },
   "outputs": [
    {
     "data": {
      "text/plain": [
       "1592"
      ]
     },
     "execution_count": 86,
     "metadata": {},
     "output_type": "execute_result"
    }
   ],
   "source": []
  },
  {
   "cell_type": "code",
   "execution_count": 89,
   "metadata": {},
   "outputs": [],
   "source": [
    "N = 1592"
   ]
  },
  {
   "cell_type": "code",
   "execution_count": 90,
   "metadata": {
    "deletable": false,
    "editable": false,
    "nbgrader": {
     "cell_type": "code",
     "checksum": "21cb3eef4c76c8e894a6c0f19ebb195d",
     "grade": true,
     "grade_id": "k_product_N_type",
     "locked": true,
     "points": 1,
     "schema_version": 3,
     "solution": false,
     "task": false
    }
   },
   "outputs": [
    {
     "name": "stdout",
     "output_type": "stream",
     "text": [
      "Problem 2 Test 4: Success!\n"
     ]
    }
   ],
   "source": [
    "\"Check that N is the correct type.\"\n",
    "assert isinstance(N,int) , \"N should be an integer.\"\n",
    "print(\"Problem 2 Test 4: Success!\")"
   ]
  },
  {
   "cell_type": "code",
   "execution_count": 91,
   "metadata": {
    "deletable": false,
    "editable": false,
    "nbgrader": {
     "cell_type": "code",
     "checksum": "96509f7c424a66e153efabd903b54172",
     "grade": true,
     "grade_id": "k_product_N_value",
     "locked": true,
     "points": 1,
     "schema_version": 3,
     "solution": false,
     "task": false
    }
   },
   "outputs": [
    {
     "name": "stdout",
     "output_type": "stream",
     "text": [
      "Problem 2 Test 5: Success!\n"
     ]
    }
   ],
   "source": [
    "\"Check that N is the correct value.\"\n",
    "assert sha1(str(N).encode('utf8')).hexdigest() == '348e495881ef4526fe8e38dba4ceaa49b829b8b2'\n",
    "print(\"Problem 2 Test 5: Success!\")"
   ]
  },
  {
   "cell_type": "markdown",
   "metadata": {},
   "source": [
    "### Problem 3 (5 points)\n",
    "\n",
    "Write a function called `mn_cosine_integral` which takes input parameters `a`, `b`, `m`, `n` and `N` and returns the Riemann sum approximation (with midpoints and `N` subintervals) of the integral\n",
    "$$\n",
    "\\int_a^b x^m \\cos(nx) \\, dx\n",
    "$$"
   ]
  },
  {
   "cell_type": "code",
   "execution_count": 65,
   "metadata": {
    "deletable": false,
    "nbgrader": {
     "cell_type": "code",
     "checksum": "8203d91ee18b46da83c52b1476109762",
     "grade": false,
     "grade_id": "mn_cosine_integral",
     "locked": false,
     "schema_version": 3,
     "solution": true,
     "task": false
    }
   },
   "outputs": [],
   "source": [
    "def f(x,m,n):\n",
    "    return x**m * np.cos(n*x)\n",
    "\n",
    "def mn_cosine_integral(a,b,m,n,N):\n",
    "    dx = (b - a)/N\n",
    "    a_1 = a+ (dx)/2\n",
    "    y_val = [0]\n",
    "    for p in range(0,N):\n",
    "        y_val.append(f(a_1+ p * dx,m,n))\n",
    "    return dx * sum(y_val)\n",
    "    \n",
    "    "
   ]
  },
  {
   "cell_type": "code",
   "execution_count": 70,
   "metadata": {},
   "outputs": [
    {
     "data": {
      "text/plain": [
       "6.346760000000003"
      ]
     },
     "execution_count": 70,
     "metadata": {},
     "output_type": "execute_result"
    }
   ],
   "source": [
    "mn_cosine_integral(0,2,4,0,10)"
   ]
  },
  {
   "cell_type": "code",
   "execution_count": 67,
   "metadata": {
    "deletable": false,
    "editable": false,
    "nbgrader": {
     "cell_type": "code",
     "checksum": "983fcf3f0edeee5d125acc1ae3eacdb6",
     "grade": true,
     "grade_id": "mn_cosine_integral_type",
     "locked": true,
     "points": 1,
     "schema_version": 3,
     "solution": false,
     "task": false
    }
   },
   "outputs": [
    {
     "name": "stdout",
     "output_type": "stream",
     "text": [
      "Problem 3 Test 1: Success!\n"
     ]
    }
   ],
   "source": [
    "\"Check that mn_cosine_integral returns the correct type.\"\n",
    "assert isinstance(mn_cosine_integral(0,2,1,1,10),np.float64) , \"Return type should be a NumPy float.\"\n",
    "print(\"Problem 3 Test 1: Success!\")"
   ]
  },
  {
   "cell_type": "code",
   "execution_count": 68,
   "metadata": {
    "deletable": false,
    "editable": false,
    "nbgrader": {
     "cell_type": "code",
     "checksum": "0843a33cdc76a9a726b4d911941eb763",
     "grade": true,
     "grade_id": "mn_cosine_integral_values1",
     "locked": true,
     "points": 2,
     "schema_version": 3,
     "solution": false,
     "task": false
    }
   },
   "outputs": [
    {
     "name": "stdout",
     "output_type": "stream",
     "text": [
      "Problem 3 Test 2: Success!\n"
     ]
    }
   ],
   "source": [
    "\"Check that mn_cosine_integral returns the correct values.\"\n",
    "assert mn_cosine_integral(0,1,0,0,1) == 1\n",
    "print(\"Problem 3 Test 2: Success!\")"
   ]
  },
  {
   "cell_type": "code",
   "execution_count": 69,
   "metadata": {
    "deletable": false,
    "editable": false,
    "nbgrader": {
     "cell_type": "code",
     "checksum": "ae1efb70f7fa9a1c06d8cf3b4591e13d",
     "grade": true,
     "grade_id": "mn_cosine_integral_values2",
     "locked": true,
     "points": 2,
     "schema_version": 3,
     "solution": false,
     "task": false
    }
   },
   "outputs": [
    {
     "name": "stdout",
     "output_type": "stream",
     "text": [
      "Problem 3 Test 3: Success!\n"
     ]
    }
   ],
   "source": [
    "\"Check that mn_cosine_integral returns the correct values.\"\n",
    "assert mn_cosine_integral(0,2,1,0,1) == 2\n",
    "print(\"Problem 3 Test 3: Success!\")"
   ]
  },
  {
   "cell_type": "markdown",
   "metadata": {},
   "source": [
    "##  Problem 4 (5 points)\n",
    "\n",
    "Write a function called `Ei` which takes input parameters `b` and `max_error` and returns the approximation of the integral\n",
    "\n",
    "$$\n",
    "\\int_1^b \\frac{e^{-t}}{t} dt\n",
    "$$\n",
    "\n",
    "given by the trapezoid method with $N$ subintervals of equal length which guarantees the error is less than `max_error`."
   ]
  },
  {
   "cell_type": "code",
   "execution_count": 82,
   "metadata": {
    "deletable": false,
    "nbgrader": {
     "cell_type": "code",
     "checksum": "b656399241c362e6483756ad50f91fa5",
     "grade": false,
     "grade_id": "Ei",
     "locked": false,
     "schema_version": 3,
     "solution": true,
     "task": false
    }
   },
   "outputs": [],
   "source": [
    "def error(b,N):\n",
    "    return ((b - 1)**3/(12*N**2))*(5/np.e)\n",
    "    \n",
    "def f(t):\n",
    "    return np.e**(-t)/t    \n",
    "    \n",
    "def int_eval(b,N):\n",
    "    dx = (b - 1)/N\n",
    "    a = 1\n",
    "    y_val = [0]\n",
    "    for p in range(0,N):\n",
    "        y_val.append(f(a + p * dx))\n",
    "        y_val.append(f(a + (p+1) * dx))\n",
    "    return (dx/2) * sum(y_val)\n",
    "\n",
    "def Ei(b,max_error):\n",
    "    N = 1\n",
    "    while (error(b,N) > max_error):\n",
    "        N = N + 1\n",
    "    return np.float64(int_eval(b,N))   \n",
    "        \n",
    "        "
   ]
  },
  {
   "cell_type": "code",
   "execution_count": 83,
   "metadata": {},
   "outputs": [],
   "source": [
    "np.float64?"
   ]
  },
  {
   "cell_type": "code",
   "execution_count": 84,
   "metadata": {
    "deletable": false,
    "editable": false,
    "nbgrader": {
     "cell_type": "code",
     "checksum": "5310f6ff76e77ce69358df6cfc6b629a",
     "grade": true,
     "grade_id": "Ei_type",
     "locked": true,
     "points": 1,
     "schema_version": 3,
     "solution": false,
     "task": false
    }
   },
   "outputs": [
    {
     "name": "stdout",
     "output_type": "stream",
     "text": [
      "Problem 4 Test 1: Success!\n"
     ]
    }
   ],
   "source": [
    "\"Check that Ei returns the correct type.\"\n",
    "assert isinstance(Ei(2,0.001),np.float64) , \"Return value should be a NumPy float.\"\n",
    "print(\"Problem 4 Test 1: Success!\")"
   ]
  },
  {
   "cell_type": "code",
   "execution_count": 85,
   "metadata": {
    "deletable": false,
    "editable": false,
    "nbgrader": {
     "cell_type": "code",
     "checksum": "9fb919cbfbe5016b9ce763af4cd31ace",
     "grade": true,
     "grade_id": "Ei_values1",
     "locked": true,
     "points": 1,
     "schema_version": 3,
     "solution": false,
     "task": false
    }
   },
   "outputs": [
    {
     "name": "stdout",
     "output_type": "stream",
     "text": [
      "Problem 4 Test 2: Success!\n"
     ]
    }
   ],
   "source": [
    "\"Check that Ei returns the correct values.\"\n",
    "assert Ei(1,0.01) == 0\n",
    "print(\"Problem 4 Test 2: Success!\")"
   ]
  },
  {
   "cell_type": "code",
   "execution_count": 86,
   "metadata": {
    "deletable": false,
    "editable": false,
    "nbgrader": {
     "cell_type": "code",
     "checksum": "150521cf73434473a10efb89d215ccde",
     "grade": true,
     "grade_id": "Ei_values2",
     "locked": true,
     "points": 3,
     "schema_version": 3,
     "solution": false,
     "task": false
    }
   },
   "outputs": [
    {
     "name": "stdout",
     "output_type": "stream",
     "text": [
      "Problem 4 Test 3: Success!\n"
     ]
    }
   ],
   "source": [
    "\"Check that Ei returns the correct values.\"\n",
    "epsilon = 10e-10\n",
    "assert np.abs(Ei(5,0.001) - 0.21833350347126337) < epsilon\n",
    "print(\"Problem 4 Test 3: Success!\")"
   ]
  },
  {
   "cell_type": "code",
   "execution_count": null,
   "metadata": {},
   "outputs": [],
   "source": []
  }
 ],
 "metadata": {
  "kernelspec": {
   "display_name": "Python 3",
   "language": "python",
   "name": "python3"
  },
  "language_info": {
   "codemirror_mode": {
    "name": "ipython",
    "version": 3
   },
   "file_extension": ".py",
   "mimetype": "text/x-python",
   "name": "python",
   "nbconvert_exporter": "python",
   "pygments_lexer": "ipython3",
   "version": "3.8.6"
  }
 },
 "nbformat": 4,
 "nbformat_minor": 2
}
