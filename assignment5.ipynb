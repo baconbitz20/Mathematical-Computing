{
 "cells": [
  {
   "cell_type": "markdown",
   "metadata": {},
   "source": [
    "# MATH 210 Assignment 5\n",
    "\n",
    "### Instructions\n",
    "\n",
    "* There are 4 problems and 22 total points.\n",
    "* Write your solutions in the cells below.\n",
    "* You may work on these problems with others but you must write your solutions on your own.\n",
    "* Use NumPy, SciPy and Matplotlib.\n",
    "* Execute the test cells to verify that your solutions pass.\n",
    "* **Grading includes hidden tests!** Your solution may not be completely correct even if it passes all tests below.\n",
    "* Submit this notebook to Canvas before **11:59pm Monday November 25**"
   ]
  },
  {
   "cell_type": "code",
   "execution_count": 1,
   "metadata": {},
   "outputs": [],
   "source": [
    "import numpy as np\n",
    "import matplotlib.pyplot as plt\n",
    "import scipy.linalg as la\n",
    "import scipy.integrate as spi"
   ]
  },
  {
   "cell_type": "markdown",
   "metadata": {},
   "source": [
    "### Problem 1 (7 points)\n",
    "\n",
    "Write a function called `is_adjacency` which takes an input parameter `A`, a 2D NumPy array, and returns `True` if $A$ is the adjacency matrix of simple, connected, undirected graph and `False` otherwise. In other words, the function should return `True` if all the following conditions are satisfied:\n",
    "* $A$ is square\n",
    "* $A$ is symmetric\n",
    "* All diagonal entries of $A$ are 0\n",
    "* All off-diagonal entries of $A$ are either 0 or 1 (this implies that the graph associated with $A$ is simple and undirected)\n",
    "* The multiplicity of the eigenvalue 0 in the Laplacian matrix $L$ associated with $A$ is 1 (this implies that the graph associated with $A$ is connected)\n",
    "\n",
    "Note that `la.eig` returns complex numbers with real and imaginary parts as floats. It's not good practice to use `a == 0` to test if a float is equal to zero since functions like `la.eig` may have small errors. Instead use something like `np.abs(a) < 10e-15` to test if a float is small enough that we consider it equal to zero.\n",
    "\n",
    "There are several NumPy functions that may be helpful such as [`np.diag`](https://docs.scipy.org/doc/numpy/reference/generated/numpy.diag.html), [`np.all`](https://docs.scipy.org/doc/numpy/reference/generated/numpy.all.html), [`np.allclose`](https://docs.scipy.org/doc/numpy/reference/generated/numpy.allclose.html), and [`np.unique`](https://docs.scipy.org/doc/numpy/reference/generated/numpy.unique.html). Use any NumPy functions that you like.\n",
    "\n",
    "The [Laplacian matrix](https://en.wikipedia.org/wiki/Laplacian_matrix) $L$ of a graph $G$ is defined as the matrix where the entry at index $(i,j)$ is -1 if node $i$ is connected to node $j$, 0 if not and $-d_i$ at the diagonal entry at index $(i,i)$ where $d_i$ is the degree of node $i$. The [degree](https://en.wikipedia.org/wiki/Degree_(graph_theory)) of a node is the number of edges connected to that node. The degree of node $i$ is the sum of row $i$ in the adjacency matrix $A$. In other words, $L = D - A$ where $A$ is the adjacency matrix and $D$ is the [degree matrix](https://en.wikipedia.org/wiki/Degree_matrix).\n",
    "\n",
    "For example, let $G$ be the following graph:\n",
    "\n",
    "![graph](https://upload.wikimedia.org/wikipedia/commons/thumb/5/5b/6n-graf.svg/440px-6n-graf.svg.png)\n",
    "\n",
    "The adjacency matrix is\n",
    "\n",
    "$$\n",
    "A_G = \\begin{bmatrix}\n",
    "0 & 1 & 0 & 0 & 1 & 0 \\\\\n",
    "1 & 0 & 1 & 0 & 1 & 0 \\\\\n",
    "0 & 1 & 0 & 1 & 0 & 0 \\\\\n",
    "0 & 0 & 1 & 0 & 1 & 1 \\\\\n",
    "1 & 1 & 0 & 1 & 0 & 0 \\\\\n",
    "0 & 0 & 0 & 1 & 0 & 0\n",
    "\\end{bmatrix}\n",
    "$$\n",
    "\n",
    "The degree matrix is\n",
    "\n",
    "$$\n",
    "D_G = \\begin{bmatrix}\n",
    "2 & 0 & 0 & 0 & 0 & 0 \\\\\n",
    "0 & 3 & 0 & 0 & 0 & 0 \\\\\n",
    "0 & 0 & 2 & 0 & 0 & 0 \\\\\n",
    "0 & 0 & 0 & 3 & 0 & 0 \\\\\n",
    "0 & 0 & 0 & 0 & 3 & 0 \\\\\n",
    "0 & 0 & 0 & 0 & 0 & 1\n",
    "\\end{bmatrix}\n",
    "$$\n",
    "\n",
    "Note the diagonal entries are the sum of the rows of $A_G$. The Laplacian matrix is:\n",
    "\n",
    "$$\n",
    "L_G = D_G - A_G = \\left[ \\begin{array}{rrrrrr}\n",
    "2 & -1 & 0 & 0 & -1 & 0 \\\\\n",
    "-1 & 3 & -1 & 0 & -1 & 0 \\\\\n",
    "0 & -1 & 2 & -1 & 0 & 0 \\\\\n",
    "0 & 0 & -1 & 3 & -1 & -1 \\\\\n",
    "-1 & -1 & 0 & -1 & 3 & 0 \\\\\n",
    "0 & 0 & 0 & -1 & 0 & 1\n",
    "\\end{array} \\right]\n",
    "$$\n",
    "\n",
    "Finally the multiplicity of the eigenvalue 0 in $L_G$ is 1 as we see when we compute:"
   ]
  },
  {
   "cell_type": "code",
   "execution_count": 111,
   "metadata": {},
   "outputs": [
    {
     "name": "stdout",
     "output_type": "stream",
     "text": [
      "[0.   0.72 1.68 3.   3.7  4.89]\n"
     ]
    }
   ],
   "source": [
    "L = np.array([[2,-1,0,0,-1,0],\n",
    "              [-1,3,-1,0,-1,0],\n",
    "              [0,-1,2,-1,0,0],\n",
    "              [0,0,-1,3,-1,-1],\n",
    "              [-1,-1,0,-1,3,0],\n",
    "              [0,0,0,-1,0,1]])\n",
    "\n",
    "eigvals,eigvecs = la.eig(L)\n",
    "eigvals = np.real(eigvals)\n",
    "print(np.round(eigvals,2))"
   ]
  },
  {
   "cell_type": "code",
   "execution_count": 136,
   "metadata": {
    "deletable": false,
    "nbgrader": {
     "cell_type": "code",
     "checksum": "0c4deb15dbaeb563eb72b80f6e0e5dc8",
     "grade": false,
     "grade_id": "is_adjacency",
     "locked": false,
     "schema_version": 3,
     "solution": true,
     "task": false
    }
   },
   "outputs": [],
   "source": [
    "def is_adjacency(A):\n",
    "    if np.shape(A)[1] != np.shape(A)[0]:\n",
    "        return False\n",
    "    elif not np.allclose(A,A.T):\n",
    "        return False\n",
    "    elif not np.allclose(np.diag(A),np.zeros(np.shape(A)[1])):\n",
    "        return False\n",
    "    elif not (len(np.unique(A)) == 2 and np.unique(A)[0] == 0 and np.unique(A)[1] == 1):\n",
    "        return False\n",
    "    D = np.identity(np.shape(A)[1])\n",
    "    for n in range(0,np.shape(A)[1]):\n",
    "        D[n,n] = sum(A[n])\n",
    "    L = D - A\n",
    "    eigvals,eigvecs = la.eig(L)\n",
    "    eigvals = np.round(np.real(eigvals),5)\n",
    "    nums,counts = np.unique(eigvals,return_counts = True)\n",
    "    if not (nums[0] == 0 and counts[0] == 1):\n",
    "        return False\n",
    "    return True"
   ]
  },
  {
   "cell_type": "code",
   "execution_count": 138,
   "metadata": {
    "deletable": false,
    "editable": false,
    "nbgrader": {
     "cell_type": "code",
     "checksum": "08cebec6e3553fe0489105ce803b4539",
     "grade": true,
     "grade_id": "is_adjacency_type",
     "locked": true,
     "points": 1,
     "schema_version": 3,
     "solution": false,
     "task": false
    }
   },
   "outputs": [
    {
     "name": "stdout",
     "output_type": "stream",
     "text": [
      "Problem 1 Test 1: Success!\n"
     ]
    }
   ],
   "source": [
    "\"Check that is_adjacency returns the correct type.\"\n",
    "A = np.array([[0,1],[1,0]])\n",
    "assert type(is_adjacency(A)) == bool , \"Return value should be boolean.\"\n",
    "print(\"Problem 1 Test 1: Success!\")"
   ]
  },
  {
   "cell_type": "code",
   "execution_count": 139,
   "metadata": {
    "deletable": false,
    "editable": false,
    "nbgrader": {
     "cell_type": "code",
     "checksum": "161a7566160bf260f3e2f6d1cf6b9ccf",
     "grade": true,
     "grade_id": "is_adjacency_square",
     "locked": true,
     "points": 1,
     "schema_version": 3,
     "solution": false,
     "task": false
    }
   },
   "outputs": [
    {
     "name": "stdout",
     "output_type": "stream",
     "text": [
      "Problem 1 Test 2: Success!\n"
     ]
    }
   ],
   "source": [
    "\"Check that is_adjacency returns False when A is not square.\"\n",
    "A = np.arange(0,21).reshape(3,7)\n",
    "assert not is_adjacency(A) , \"Return value should be False.\"\n",
    "print(\"Problem 1 Test 2: Success!\")"
   ]
  },
  {
   "cell_type": "code",
   "execution_count": 140,
   "metadata": {
    "deletable": false,
    "editable": false,
    "nbgrader": {
     "cell_type": "code",
     "checksum": "8b76013a73c8f6ddea42863b9067b845",
     "grade": true,
     "grade_id": "is_adjacency_symmetric",
     "locked": true,
     "points": 1,
     "schema_version": 3,
     "solution": false,
     "task": false
    }
   },
   "outputs": [
    {
     "name": "stdout",
     "output_type": "stream",
     "text": [
      "Problem 1 Test 3: Success!\n"
     ]
    }
   ],
   "source": [
    "\"Check that is_adjacency returns False when A is not symmetric.\"\n",
    "A = np.arange(0,25).reshape(5,5)\n",
    "assert not is_adjacency(A) , \"Return value should be False.\"\n",
    "print(\"Problem 1 Test 3: Success!\")"
   ]
  },
  {
   "cell_type": "code",
   "execution_count": 141,
   "metadata": {
    "deletable": false,
    "editable": false,
    "nbgrader": {
     "cell_type": "code",
     "checksum": "bca4475785ea3b189329c8b1dc327a27",
     "grade": true,
     "grade_id": "is_adjacency_diagonal",
     "locked": true,
     "points": 1,
     "schema_version": 3,
     "solution": false,
     "task": false
    }
   },
   "outputs": [
    {
     "name": "stdout",
     "output_type": "stream",
     "text": [
      "Problem 1 Test 4: Success!\n"
     ]
    }
   ],
   "source": [
    "\"Check that is_adjacency returns False when A has non-zero diagonal entries.\"\n",
    "M = np.arange(0,16).reshape(4,4)\n",
    "A = M + M.T\n",
    "assert not is_adjacency(A) , \"Return value should be False.\"\n",
    "print(\"Problem 1 Test 4: Success!\")"
   ]
  },
  {
   "cell_type": "code",
   "execution_count": 142,
   "metadata": {
    "deletable": false,
    "editable": false,
    "nbgrader": {
     "cell_type": "code",
     "checksum": "6d377b5baf5aa91d13717891ea47fa26",
     "grade": true,
     "grade_id": "is_adjacency_0_and_1",
     "locked": true,
     "points": 1,
     "schema_version": 3,
     "solution": false,
     "task": false
    }
   },
   "outputs": [
    {
     "name": "stdout",
     "output_type": "stream",
     "text": [
      "Problem 1 Test 5: Success!\n"
     ]
    }
   ],
   "source": [
    "\"Check that is_adjacency returns False when A has entries not equal to 0 or 1.\"\n",
    "M = np.arange(0,16).reshape(4,4)\n",
    "B = M + M.T\n",
    "A = B - np.diag(np.diag(B))\n",
    "assert not is_adjacency(A) , \"Return value should be False.\"\n",
    "print(\"Problem 1 Test 5: Success!\")"
   ]
  },
  {
   "cell_type": "code",
   "execution_count": 143,
   "metadata": {
    "deletable": false,
    "editable": false,
    "nbgrader": {
     "cell_type": "code",
     "checksum": "cf12eb86c210a77c32d99ae396eafbcc",
     "grade": true,
     "grade_id": "is_adjacency_eig1",
     "locked": true,
     "points": 1,
     "schema_version": 3,
     "solution": false,
     "task": false
    }
   },
   "outputs": [
    {
     "name": "stdout",
     "output_type": "stream",
     "text": [
      "Problem 1 Test 6: Success!\n"
     ]
    }
   ],
   "source": [
    "\"Check that is_adjacency returns False when A has Laplacian with eigenvalue 0 with multiplicity bigger than 1.\"\n",
    "A = np.array([[0,1,0,0],[1,0,0,0],[0,0,0,1],[0,0,1,0]])\n",
    "assert not is_adjacency(A) , \"Return value should be False.\"\n",
    "print(\"Problem 1 Test 6: Success!\")"
   ]
  },
  {
   "cell_type": "code",
   "execution_count": 144,
   "metadata": {
    "deletable": false,
    "editable": false,
    "nbgrader": {
     "cell_type": "code",
     "checksum": "762c5fe9a7be1dac49b7954519b3e883",
     "grade": true,
     "grade_id": "is_adjacency_true",
     "locked": true,
     "points": 1,
     "schema_version": 3,
     "solution": false,
     "task": false
    }
   },
   "outputs": [
    {
     "name": "stdout",
     "output_type": "stream",
     "text": [
      "Problem 1 Test 7: Success!\n"
     ]
    }
   ],
   "source": [
    "\"Check that is_adjacency returns True when A is the adjacency matrix.\"\n",
    "A = np.array([[0,1,0,1],[1,0,0,0],[0,0,0,1],[1,0,1,0]])\n",
    "assert is_adjacency(A) , \"Return value should be True.\"\n",
    "print(\"Problem 1 Test 7: Success!\")"
   ]
  },
  {
   "cell_type": "markdown",
   "metadata": {},
   "source": [
    "##  Problem 2 (5 points)\n",
    "\n",
    "Write a function called `trig_euler` which takes input parameters `y0`, `tf` and `N` (with default values `tf=10` and `N=100`) and implements Euler's method with step size $h = \\frac{t_f}{N-1}$ to approximate the solution of the equation\n",
    "\n",
    "$$\n",
    "y' = \\sin(y^2) + \\cos(t) \\ , \\ y(0) = y_0\n",
    "$$\n",
    "\n",
    "over the interval $[0,t_f]$. The function plots the approxmiation $y(t)$ over the interval $[0,t_f]$ and returns a 2D NumPy array `Y` of size $N$ by 2 where the column at index 0 is the array of $t$ values from 0 to $t_f$, and the column at index 1 is the array of corresponding $y$ values given by Euler's method."
   ]
  },
  {
   "cell_type": "code",
   "execution_count": 182,
   "metadata": {
    "deletable": false,
    "nbgrader": {
     "cell_type": "code",
     "checksum": "b926a7cf4669f7387c71a35125b7c3ee",
     "grade": false,
     "grade_id": "trig_eler",
     "locked": false,
     "schema_version": 3,
     "solution": true,
     "task": false
    }
   },
   "outputs": [],
   "source": [
    "def trig_euler(y0,tf = 10,N = 100):\n",
    "    h = tf / (N-1)\n",
    "    y = np.zeros(N)\n",
    "    y[0] = y0\n",
    "    t = np.linspace(0,tf,N)\n",
    "    for n in range(0,N-1):\n",
    "        y[n+1] = y[n] +  (np.sin(y[n]**2) + np.cos(t[n]))*h\n",
    "    return np.stack((t,y),axis = -1)"
   ]
  },
  {
   "cell_type": "code",
   "execution_count": 183,
   "metadata": {
    "deletable": false,
    "editable": false,
    "nbgrader": {
     "cell_type": "code",
     "checksum": "06c87b1f0025e3dcd749fa5897aedaf3",
     "grade": true,
     "grade_id": "trig_euler_shape",
     "locked": true,
     "points": 1,
     "schema_version": 3,
     "solution": false,
     "task": false
    }
   },
   "outputs": [
    {
     "name": "stdout",
     "output_type": "stream",
     "text": [
      "Problem 2 Test 1: Success!\n"
     ]
    }
   ],
   "source": [
    "\"Check that trig_euler returns an array of correct size.\"\n",
    "N = 500\n",
    "assert np.allclose(trig_euler(-1,20,N=N).shape,[N,2]), \"Return type should be a NumPy array of size N by 2.\"\n",
    "print(\"Problem 2 Test 1: Success!\")"
   ]
  },
  {
   "cell_type": "code",
   "execution_count": 184,
   "metadata": {
    "deletable": false,
    "editable": false,
    "nbgrader": {
     "cell_type": "code",
     "checksum": "98adf30fbf2ce6678d00d51b5bca1491",
     "grade": true,
     "grade_id": "trig_euler_tvalues",
     "locked": true,
     "points": 2,
     "schema_version": 3,
     "solution": false,
     "task": false
    }
   },
   "outputs": [
    {
     "name": "stdout",
     "output_type": "stream",
     "text": [
      "Problem 2 Test 2: Success!\n"
     ]
    }
   ],
   "source": [
    "\"Check that trig_euler returns t values.\"\n",
    "result = trig_euler(3,tf=5,N=101)\n",
    "assert np.allclose(result[:5,0],np.array([0.,0.05,0.1,0.15,0.2]))\n",
    "print(\"Problem 2 Test 2: Success!\")"
   ]
  },
  {
   "cell_type": "code",
   "execution_count": 185,
   "metadata": {
    "deletable": false,
    "editable": false,
    "nbgrader": {
     "cell_type": "code",
     "checksum": "fa7c58107aac93507d1c71a2b518c5e9",
     "grade": true,
     "grade_id": "trig_euler_yvalues",
     "locked": true,
     "points": 2,
     "schema_version": 3,
     "solution": false,
     "task": false
    }
   },
   "outputs": [
    {
     "name": "stdout",
     "output_type": "stream",
     "text": [
      "Problem 2 Test 3: Success!\n"
     ]
    }
   ],
   "source": [
    "\"Check that trig_euler returns y values.\"\n",
    "y1 = np.array([0,5])\n",
    "result1 = trig_euler(0,tf=5,N=2)\n",
    "assert np.allclose(result1[:,1],y1), \"Return values should be y=5 at t=5 in this case.\"\n",
    "y2 = np.array([-1.,-0.76981613,-0.57597472,-0.41414877,-0.27650039])\n",
    "result2 = trig_euler(-1,N=25,tf=3)\n",
    "assert np.allclose(result2[:5,1],y2)\n",
    "print(\"Problem 2 Test 3: Success!\")"
   ]
  },
  {
   "cell_type": "markdown",
   "metadata": {},
   "source": [
    "##  Problem 3 (5 points)\n",
    "\n",
    "Write a function called `oscillator` which takes input parameters `m`, `c`, `k`, `f` (a Python function of one variable), `y0`, `v0`, `tf` and `N` (with default values `tf=10` and `N=100`) and implements Euler's method with step size $h = \\frac{t_f}{N-1}$ to approximate the solution of the equation\n",
    "\n",
    "$$\n",
    "my'' + cy' + ky = f(t) \\ , \\ \\ y(0)=y_0 \\ , \\ y'(0) = v_0\n",
    "$$\n",
    "\n",
    "over the interval $[0,t_f]$. The function plots the approxmiation $y(t)$ over the interval $[0,t_f]$ and returns a 2D NumPy array `Y` of size $N$ by 2 where the column at index 0 is the array of $t$ values from 0 to $t_f$, and the column at index 1 is the array of corresponding $y$ values given by Euler's method."
   ]
  },
  {
   "cell_type": "code",
   "execution_count": 186,
   "metadata": {
    "deletable": false,
    "nbgrader": {
     "cell_type": "code",
     "checksum": "a3fd445f195a57a571490293fd5cc5ce",
     "grade": false,
     "grade_id": "oscillator",
     "locked": false,
     "schema_version": 3,
     "solution": true,
     "task": false
    }
   },
   "outputs": [],
   "source": [
    "def oscillator(m,c,k,f,y0,v0,tf=10,N=100):\n",
    "    h = tf / (N-1)\n",
    "    y = np.zeros(N)\n",
    "    v = np.zeros(N)\n",
    "    y[0] = y0\n",
    "    v[0] = v0 \n",
    "    t = np.linspace(0,tf,N)\n",
    "    for n in range(0,N-1):\n",
    "        y[n+1] = y[n] + h*v[n]\n",
    "        v[n+1] = v[n] + h*((f(t[n]) - k*y[n]-c*v[n])/m)\n",
    "    return np.stack((t,y),axis = -1) "
   ]
  },
  {
   "cell_type": "code",
   "execution_count": 187,
   "metadata": {
    "deletable": false,
    "editable": false,
    "nbgrader": {
     "cell_type": "code",
     "checksum": "243bc29fe7a886a16bfaa224c342a3ab",
     "grade": true,
     "grade_id": "oscillator_shape",
     "locked": true,
     "points": 1,
     "schema_version": 3,
     "solution": false,
     "task": false
    }
   },
   "outputs": [
    {
     "name": "stdout",
     "output_type": "stream",
     "text": [
      "Problem 3 Test 1: Success!\n"
     ]
    }
   ],
   "source": [
    "\"Check that oscillator returns an array of correct size.\"\n",
    "N = 200\n",
    "result = oscillator(2,1,3,np.cos,0,2,50,N=N)\n",
    "assert np.allclose(result.shape,[N,2]), \"Return type should be a NumPy array of size N by 2.\"\n",
    "print(\"Problem 3 Test 1: Success!\")"
   ]
  },
  {
   "cell_type": "code",
   "execution_count": 188,
   "metadata": {
    "deletable": false,
    "editable": false,
    "nbgrader": {
     "cell_type": "code",
     "checksum": "04821f0c65ba6acffa2cb56d00fe120f",
     "grade": true,
     "grade_id": "oscillator_tvalues",
     "locked": true,
     "points": 2,
     "schema_version": 3,
     "solution": false,
     "task": false
    }
   },
   "outputs": [
    {
     "name": "stdout",
     "output_type": "stream",
     "text": [
      "Problem 3 Test 2: Success!\n"
     ]
    }
   ],
   "source": [
    "\"Check that oscillator returns t values.\"\n",
    "result = oscillator(1,0,1,lambda t: 0,1,0,1,N=11)\n",
    "assert np.allclose(result[:5,0],np.array([0.,0.1,0.2,0.3,0.4]))\n",
    "print(\"Problem 3 Test 2: Success!\")"
   ]
  },
  {
   "cell_type": "code",
   "execution_count": 189,
   "metadata": {
    "deletable": false,
    "editable": false,
    "nbgrader": {
     "cell_type": "code",
     "checksum": "2e9b07808a6a380d62672f981c8143b4",
     "grade": true,
     "grade_id": "oscillator_yvalues",
     "locked": true,
     "points": 2,
     "schema_version": 3,
     "solution": false,
     "task": false
    }
   },
   "outputs": [
    {
     "name": "stdout",
     "output_type": "stream",
     "text": [
      "Problem 3 Test 3: Success!\n"
     ]
    }
   ],
   "source": [
    "\"Check that trig_euler returns y values.\"\n",
    "y1 = np.array([1.,1.,0.75])\n",
    "result1 = oscillator(1,0,1,lambda t: 0,1,0,1,N=3)\n",
    "assert np.allclose(result1[:,1],y1)\n",
    "y2 = np.array([0.,0.39215686,0.7266436,0.9892295,1.17109905])\n",
    "result2 = oscillator(4,3,7,lambda t: np.sin(2*t),0,2,10,N=52)\n",
    "assert np.allclose(result2[:5,1],y2)\n",
    "print(\"Problem 3 Test 3: Success!\")"
   ]
  },
  {
   "cell_type": "markdown",
   "metadata": {},
   "source": [
    "##  Problem 4 (5 points)\n",
    "\n",
    "Write a function called `coriolis` which takes input parameters `w`, `Omega`, `phi`, `u0` and `t`. The function uses `scipy.integrate.odeint` to numerically solve the system of equations\n",
    "\n",
    "\\begin{align*}\n",
    "\\frac{d^2 x}{dt^2} &= -\\omega^2 x + 2 \\Omega \\sin(\\phi) \\frac{dy}{dt} \\\\\n",
    "\\frac{d^2 y}{dt^2} &= -\\omega^2 y - 2 \\Omega \\sin(\\phi) \\frac{dx}{dt}\n",
    "\\end{align*}\n",
    "\n",
    "given the initial conditions $[x(t_0),x'(t_0),y(t_0),y'(t_0)]$ defined by `u0` (a Python list of length 4), and where $t$ is a 1D NumPy array of $t$ values over an interval $[t_0,t_f]$. The parameters $\\omega$, $\\Omega$, and $\\phi$ are given by `w`, `Omega`, and `phi` respectively. The function plots the trajectory $(x(t),y(t))$ of the solution and returns a 2D NumPy array $M$ of size `len(t)` by 3 where the column at index 0 is the array of $t$ values, the column at index 1 is the corresponding array of $x$ values and the column at index 2 is the corresponding array of $y$ values."
   ]
  },
  {
   "cell_type": "code",
   "execution_count": 32,
   "metadata": {
    "deletable": false,
    "nbgrader": {
     "cell_type": "code",
     "checksum": "9619610a67797e45839e246af503d7bf",
     "grade": false,
     "grade_id": "coriolis",
     "locked": false,
     "schema_version": 3,
     "solution": true,
     "task": false
    }
   },
   "outputs": [],
   "source": [
    "def f(u,t,w,Omega,phi):\n",
    "    dudt = np.array([0.0,0.0,0.0,0.0])\n",
    "    dudt[0] = u[1]\n",
    "    dudt[1] = -w**2*u[0] + 2*Omega*np.sin(phi)*u[3]\n",
    "    dudt[2] = u[3]\n",
    "    dudt[3] = -w**2*u[2] - 2*Omega*np.sin(phi)*u[1]\n",
    "    return dudt\n",
    "\n",
    "def coriolis(w,Omega,phi,u0,t):\n",
    "    u = spi.odeint(f,u0,t,args=(w,Omega,phi))\n",
    "    return np.stack((t,u[:,0],u[:,2]),axis=-1)"
   ]
  },
  {
   "cell_type": "code",
   "execution_count": 35,
   "metadata": {
    "deletable": false,
    "editable": false,
    "nbgrader": {
     "cell_type": "code",
     "checksum": "52a56cafbe404391d01ad8416d8bc4df",
     "grade": true,
     "grade_id": "coriolis_size",
     "locked": true,
     "points": 1,
     "schema_version": 3,
     "solution": false,
     "task": false
    }
   },
   "outputs": [
    {
     "name": "stdout",
     "output_type": "stream",
     "text": [
      "Problem 5 Test 1: Success!\n"
     ]
    }
   ],
   "source": [
    "\"Check that coriolis returns an array of the correct size.\"\n",
    "assert np.allclose(coriolis(3,3,np.pi/6,[1,0,1,0],np.linspace(0,20,200)).shape, [200,3])\n",
    "assert np.allclose(coriolis(2,1,np.pi/2,[1,-1,1,2],np.linspace(0,10,100)).shape, [100,3])\n",
    "print(\"Problem 5 Test 1: Success!\")"
   ]
  },
  {
   "cell_type": "code",
   "execution_count": 36,
   "metadata": {
    "deletable": false,
    "editable": false,
    "nbgrader": {
     "cell_type": "code",
     "checksum": "117a82cc162fdf04a826c6e1c5d8b55e",
     "grade": true,
     "grade_id": "coriolis_values1",
     "locked": true,
     "points": 2,
     "schema_version": 3,
     "solution": false,
     "task": false
    }
   },
   "outputs": [
    {
     "name": "stdout",
     "output_type": "stream",
     "text": [
      "Problem 5 Test 3: Success!\n"
     ]
    }
   ],
   "source": [
    "\"Check that coriolis returns the correct values.\"\n",
    "solution = coriolis(2,1,np.pi/2,[1,-1,1,2],np.linspace(0,10,200))\n",
    "M = np.array([[ 0.        ,  1.        ,  1.        ],\n",
    "              [ 0.05025126,  0.94974454,  1.09781044],\n",
    "              [ 0.10050251,  0.89943111,  1.18959012],\n",
    "              [ 0.15075377,  0.84891533,  1.2744251 ]])\n",
    "assert np.allclose(solution[:4,:],M)\n",
    "\n",
    "print(\"Problem 5 Test 3: Success!\")"
   ]
  },
  {
   "cell_type": "code",
   "execution_count": 37,
   "metadata": {
    "deletable": false,
    "editable": false,
    "nbgrader": {
     "cell_type": "code",
     "checksum": "767341497542e8fceb22d09e931c3ff9",
     "grade": true,
     "grade_id": "coriolis_values2",
     "locked": true,
     "points": 2,
     "schema_version": 3,
     "solution": false,
     "task": false
    }
   },
   "outputs": [
    {
     "name": "stdout",
     "output_type": "stream",
     "text": [
      "Problem 5 Test 3: Success!\n"
     ]
    }
   ],
   "source": [
    "\"Check that coriolis returns the correct values.\"\n",
    "solution = coriolis(2,1,np.pi/2,[1,-1,1,2],np.linspace(0,10,200))\n",
    "\n",
    "M = np.array([[9.89949749,1.306117,0.6589853],\n",
    "              [9.94974874,1.29575448,0.76147343],\n",
    "              [10.,1.2822863,0.85746863]])\n",
    "assert np.allclose(solution[-3:,:],M)\n",
    "\n",
    "print(\"Problem 5 Test 3: Success!\")"
   ]
  }
 ],
 "metadata": {
  "kernelspec": {
   "display_name": "Python 3",
   "language": "python",
   "name": "python3"
  },
  "language_info": {
   "codemirror_mode": {
    "name": "ipython",
    "version": 3
   },
   "file_extension": ".py",
   "mimetype": "text/x-python",
   "name": "python",
   "nbconvert_exporter": "python",
   "pygments_lexer": "ipython3",
   "version": "3.8.6"
  }
 },
 "nbformat": 4,
 "nbformat_minor": 2
}
