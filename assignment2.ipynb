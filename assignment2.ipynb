{
 "cells": [
  {
   "cell_type": "markdown",
   "metadata": {},
   "source": [
    "# MATH 210 Assignment 2\n",
    "\n",
    "### Instructions\n",
    "\n",
    "* There are 4 problems and 20 total points.\n",
    "* Write your solutions in the cells below.\n",
    "* You may work on these problems with others but you must write your solutions on your own.\n",
    "* **Do not import** any Python packages such as `math` or `numpy` to complete this assignment.\n",
    "* Execute the test cells to verify that your solutions pass.\n",
    "* **Grading includes hidden tests!** Your solution may not be completely correct even if it passes all tests below.\n",
    "* Submit this notebook to Canvas before **11:59pm Friday October 4**"
   ]
  },
  {
   "cell_type": "markdown",
   "metadata": {},
   "source": [
    "## Problem 1 (5 points)\n",
    "\n",
    "Write a fucntion called `ab_recursive` which takes 3 input parameters `a`, `b` and `N` and return a Python list `[x0,x1,...,xN]` of length $N+1$ representing the recursive sequence\n",
    "\n",
    "$$\n",
    "x_0 = 1 \\ , \\ \\ x_1 = 1 \\ , \\ \\ x_{n+2} = a x_{n+1} + b x_{n}\n",
    "$$\n",
    "\n",
    "For example, if $a = b = 1$ and $N = 5$ then the function returns the partial Fibonacci sequence `[1,1,2,3,5,8]`"
   ]
  },
  {
   "cell_type": "code",
   "execution_count": 1,
   "metadata": {
    "deletable": false,
    "nbgrader": {
     "cell_type": "code",
     "checksum": "b9f0915f240fb1765ea41394f0241eb2",
     "grade": false,
     "grade_id": "ab_recursive",
     "locked": false,
     "schema_version": 3,
     "solution": true,
     "task": false
    }
   },
   "outputs": [],
   "source": [
    "def ab_recursive(a,b,N):\n",
    "    seq = [1,1]\n",
    "    for n in range(2,N+1):\n",
    "        seq.append(a*seq[n-1]+b*seq[n-2])\n",
    "    return seq"
   ]
  },
  {
   "cell_type": "code",
   "execution_count": 2,
   "metadata": {
    "deletable": false,
    "editable": false,
    "nbgrader": {
     "cell_type": "code",
     "checksum": "ddf0ffbe0ac938aa0605c0ac635d1329",
     "grade": true,
     "grade_id": "ab_recursive_type1",
     "locked": true,
     "points": 1,
     "schema_version": 3,
     "solution": false,
     "task": false
    }
   },
   "outputs": [
    {
     "name": "stdout",
     "output_type": "stream",
     "text": [
      "Problem 1 Test 1: Success!\n"
     ]
    }
   ],
   "source": [
    "\"Check that ab_recursive returns the correct datatype.\"\n",
    "assert type(ab_recursive(1,1,5)) == list , \"Return value should be a list.\"\n",
    "print(\"Problem 1 Test 1: Success!\")"
   ]
  },
  {
   "cell_type": "code",
   "execution_count": 3,
   "metadata": {
    "deletable": false,
    "editable": false,
    "nbgrader": {
     "cell_type": "code",
     "checksum": "5965ac73106e5e914f53d6e34a6e48d3",
     "grade": true,
     "grade_id": "ab_recursive_type2",
     "locked": true,
     "points": 1,
     "schema_version": 3,
     "solution": false,
     "task": false
    }
   },
   "outputs": [
    {
     "name": "stdout",
     "output_type": "stream",
     "text": [
      "Problem 1 Test 2: Success!\n"
     ]
    }
   ],
   "source": [
    "\"Check that ab_recursive returns a list of the correct length.\"\n",
    "assert len(ab_recursive(1,-1,23)) == 24 , \"Return value should be a list of length 24.\"\n",
    "print(\"Problem 1 Test 2: Success!\")"
   ]
  },
  {
   "cell_type": "code",
   "execution_count": 5,
   "metadata": {
    "deletable": false,
    "editable": false,
    "nbgrader": {
     "cell_type": "code",
     "checksum": "07120aeac0d35e2761ef85c2c8d33980",
     "grade": true,
     "grade_id": "ab_recursive_values1",
     "locked": true,
     "points": 1,
     "schema_version": 3,
     "solution": false,
     "task": false
    }
   },
   "outputs": [
    {
     "name": "stdout",
     "output_type": "stream",
     "text": [
      "Problem 1 Test 3: Success!\n"
     ]
    }
   ],
   "source": [
    "\"Check that ab_recursive returns the correct values.\"\n",
    "assert ab_recursive(1,1,5) == [1,1,2,3,5,8] , \"Return value should be [1,1,2,3,5,8] when a=b=1 and N=5.\"\n",
    "print(\"Problem 1 Test 3: Success!\")"
   ]
  },
  {
   "cell_type": "code",
   "execution_count": 6,
   "metadata": {
    "deletable": false,
    "editable": false,
    "nbgrader": {
     "cell_type": "code",
     "checksum": "ea81b1a265cf636834f9d16ba9528aa8",
     "grade": true,
     "grade_id": "ab_recursive_values2",
     "locked": true,
     "points": 2,
     "schema_version": 3,
     "solution": false,
     "task": false
    }
   },
   "outputs": [
    {
     "name": "stdout",
     "output_type": "stream",
     "text": [
      "Problem 1 Test 4: Success!\n"
     ]
    }
   ],
   "source": [
    "\"Check that ab_recursive returns the correct values.\"\n",
    "assert ab_recursive(1,-1,5) == [1,1,0,-1,-1,0] , \"Return value should be [1,1,0,-1,-1,0] when a=1, b=-1 and N=5.\"\n",
    "print(\"Problem 1 Test 4: Success!\")"
   ]
  },
  {
   "cell_type": "markdown",
   "metadata": {},
   "source": [
    "### Problem 2 (5 points)\n",
    "\n",
    "Write a function called `ab_quintic` which takes 6 input parameters `a`, `b`, `x0`, `eps`, `max_iter` and  `z` (default value `10e-12`), implements Newton's method with initial guess `x0` and returns an approximation of a solution of the equation $f(x) = 0$ where\n",
    "\n",
    "$$\n",
    "f(x) = x^5 + ax + b\n",
    "$$\n",
    "\n",
    "The function `ab_quintic` may terminate in 3 different ways:\n",
    "\n",
    "1. Implement Newton's method until it produces a value `x_n` such that `|f(x_n)| < eps` and then return `x_n`.\n",
    "2. If `|f'(x_n)| < z` (ie. the absolute value of the derivative is nearly 0) at any point in the implementation, the function prints `\"Zero derivative. No solution found.\"` and returns `None`.\n",
    "3. If the number of iterations exceeds the maximum number of iterations `max_iter`, the function prints `\"Exceeded maximum iterations. No solution found.\"` and returns `None`."
   ]
  },
  {
   "cell_type": "code",
   "execution_count": 9,
   "metadata": {
    "deletable": false,
    "nbgrader": {
     "cell_type": "code",
     "checksum": "7f9c45a43c98e5a191d4a80b536d2c35",
     "grade": false,
     "grade_id": "ab_quintic",
     "locked": false,
     "schema_version": 3,
     "solution": true,
     "task": false
    }
   },
   "outputs": [],
   "source": [
    "def ab_quintic(a,b,x0,eps,max_iter,z=10e-12):\n",
    "    x_n = x0\n",
    "    for n in range(0,max_iter+1):\n",
    "        fx_n = x_n**5 + a*x_n + b\n",
    "        dfx_n = 5*x_n**4 + a\n",
    "        if abs(fx_n) < eps:\n",
    "            return x_n\n",
    "        elif abs(dfx_n) < z:\n",
    "            print(\"Zero derivative. No solution found.\")\n",
    "            return None\n",
    "        else:\n",
    "            x_n = x_n - fx_n / dfx_n\n",
    "    print(\"Exceeded maximum iterations. No solution found.\")\n",
    "    return None"
   ]
  },
  {
   "cell_type": "code",
   "execution_count": 10,
   "metadata": {
    "deletable": false,
    "editable": false,
    "nbgrader": {
     "cell_type": "code",
     "checksum": "ef720ec7ef243c15d54e704c6ebe22ee",
     "grade": true,
     "grade_id": "ab_quintic_type",
     "locked": true,
     "points": 1,
     "schema_version": 3,
     "solution": false,
     "task": false
    }
   },
   "outputs": [
    {
     "name": "stdout",
     "output_type": "stream",
     "text": [
      "Problem 1 Test 1: Success!\n"
     ]
    }
   ],
   "source": [
    "\"Check that ab_quintic returns the correct datatype when solution is found.\"\n",
    "assert type(ab_quintic(2,1,1,0.001,25)) == float , \"Return value should be a float.\"\n",
    "print(\"Problem 1 Test 1: Success!\")"
   ]
  },
  {
   "cell_type": "code",
   "execution_count": 11,
   "metadata": {
    "deletable": false,
    "editable": false,
    "nbgrader": {
     "cell_type": "code",
     "checksum": "9b1bc6a1c7db80db5a0dd46b0ba585eb",
     "grade": true,
     "grade_id": "ab_quintic_input",
     "locked": true,
     "points": 1,
     "schema_version": 3,
     "solution": false,
     "task": false
    }
   },
   "outputs": [
    {
     "name": "stdout",
     "output_type": "stream",
     "text": [
      "Problem 1 Test 2: Success!\n"
     ]
    }
   ],
   "source": [
    "\"Check that ab_quintic accepts the right number of input parameters.\"\n",
    "assert type(ab_quintic(2,1,1,0.001,25)) == float , \"Return value should be a float. And default value z=10e-12.\"\n",
    "assert type(ab_quintic(2,1,1,0.001,25,10e-12)) == float , \"Return value should be a float.\"\n",
    "print(\"Problem 1 Test 2: Success!\")"
   ]
  },
  {
   "cell_type": "code",
   "execution_count": 12,
   "metadata": {
    "deletable": false,
    "editable": false,
    "nbgrader": {
     "cell_type": "code",
     "checksum": "fd48b8bc0f6aa13f9474f9e77f9f4286",
     "grade": true,
     "grade_id": "ab_quintic_zero",
     "locked": true,
     "points": 1,
     "schema_version": 3,
     "solution": false,
     "task": false
    }
   },
   "outputs": [
    {
     "name": "stdout",
     "output_type": "stream",
     "text": [
      "Zero derivative. No solution found.\n",
      "Problem 1 Test 3: Success!\n"
     ]
    }
   ],
   "source": [
    "\"Check that ab_quintic returns the correct datatype when there is a zero derivaitve.\"\n",
    "assert ab_quintic(-5,1,1,0.001,25) == None , \"Return value should be None when 5x^4 + a = 0.\"\n",
    "print(\"Problem 1 Test 3: Success!\")"
   ]
  },
  {
   "cell_type": "code",
   "execution_count": 13,
   "metadata": {
    "deletable": false,
    "editable": false,
    "nbgrader": {
     "cell_type": "code",
     "checksum": "2bbfe8181adb8e4273144acd35c0ab27",
     "grade": true,
     "grade_id": "ab_quintic_max_iter",
     "locked": true,
     "points": 1,
     "schema_version": 3,
     "solution": false,
     "task": false
    }
   },
   "outputs": [
    {
     "name": "stdout",
     "output_type": "stream",
     "text": [
      "Exceeded maximum iterations. No solution found.\n",
      "Problem 1 Test 4: Success!\n"
     ]
    }
   ],
   "source": [
    "\"Check that ab_quintic returns the correct datatype when exceed maximum iterations.\"\n",
    "assert ab_quintic(2,1,3,10e-14,3) == None , \"Return value should be None when maximum iterations is exceeded.\"\n",
    "print(\"Problem 1 Test 4: Success!\")"
   ]
  },
  {
   "cell_type": "code",
   "execution_count": 14,
   "metadata": {
    "deletable": false,
    "editable": false,
    "nbgrader": {
     "cell_type": "code",
     "checksum": "8b8278b0053c867d5b2cf426b3289af6",
     "grade": true,
     "grade_id": "ab_quintic_values",
     "locked": true,
     "points": 1,
     "schema_version": 3,
     "solution": false,
     "task": false
    }
   },
   "outputs": [
    {
     "name": "stdout",
     "output_type": "stream",
     "text": [
      "Problem 1 Test 5: Success!\n"
     ]
    }
   ],
   "source": [
    "\"Check that ab_quintic returns the correct values.\"\n",
    "epsilon = 10e-10\n",
    "assert abs(ab_quintic(-1,3,-1,10e-8,20) - -1.3412935317044605) < epsilon , \"Solution of x^5 - x + 3 = 0 is approximately x=-1.341.\"\n",
    "print(\"Problem 1 Test 5: Success!\")"
   ]
  },
  {
   "cell_type": "markdown",
   "metadata": {},
   "source": [
    "### Problem 3 (6 points)\n",
    "\n",
    "Represent a polynomial $p(x)=a_0+a_1x+a_2x^2+\\cdots+a_nx^n$ as a list of coefficients $[a_0,a_1,\\dots,a_n]$. Write a function called `poly_critical` which takes 4 input parameters `p`, `a`, `b` and `N` where `p` is a Python list of numbers representing a polynomial $p(x)$, `a` and `b` are numbers defining an interval $[a,b]$ and `N` is a positive integer.\n",
    "\n",
    "The function `poly_critical` implements $N$ iterations of the bisection method applied to the equation $p'(x)=0$ and returns an approximation of a critical point $c$ where $p'(c)=0$ for $c \\in [a,b]$.\n",
    "\n",
    "For example, if `p = [1,-1,1,0,0,1]` (which represents $p(x) = 1-x+x^2+x^5$), `a=0`, `b=1` and `N=10` then the function returns `0.4212656546685004` which approximates a solution of $5x^4+2x-1=0$.\n",
    "\n",
    "The function `poly_critical` may terminate in 4 ways:\n",
    "\n",
    "1. If `len(p) < 2` (`p` is linear), the function should print `\"No critical points.\"` and return `None`.\n",
    "2. If either initial endpoint is a critical point, return the endpoint.\n",
    "3. If values at both endpoints and midpoint have the same sign at any iteration, the function should print `\"Bisection method fails.\"` and return `None`.\n",
    "4. The function implements N iterations of the bisection method successfully and returns the midpoint of the Nth subinterval."
   ]
  },
  {
   "cell_type": "code",
   "execution_count": 104,
   "metadata": {
    "deletable": false,
    "nbgrader": {
     "cell_type": "code",
     "checksum": "71b7c27dc052f8e8cd9dbc7e4daa2c6b",
     "grade": false,
     "grade_id": "poly_critical",
     "locked": false,
     "schema_version": 3,
     "solution": true,
     "task": false
    }
   },
   "outputs": [],
   "source": [
    "def poly_eval(p,x):\n",
    "    return sum([p[n]*x**n for n in range(0,len(p))])\n",
    "\n",
    "\n",
    "def poly_diff(p):\n",
    "    if len(p) == 1:\n",
    "        return[0]\n",
    "    else:\n",
    "        return [n*p[n] for n in range(1,len(p))]\n",
    "\n",
    "def poly_critical(p,a,b,N):\n",
    "    if len(p) < 2:\n",
    "        print(\"No critical points.\")\n",
    "        return None\n",
    "    for n in range(0, N):\n",
    "        da = poly_eval(poly_diff(p),a)\n",
    "        db = poly_eval(poly_diff(p),b)\n",
    "        m = (a + b)/2\n",
    "        dm = poly_eval(poly_diff(p),m)\n",
    "        if da == 0:\n",
    "            return a\n",
    "        elif db == 0:\n",
    "            return b\n",
    "        elif dm*da < 0:\n",
    "            b = m\n",
    "            a = a\n",
    "        elif dm*db < 0:\n",
    "            a = m\n",
    "            b = b\n",
    "        else:\n",
    "            print(\"Bisection method fails.\")\n",
    "            return None\n",
    "    return (a+b)/2"
   ]
  },
  {
   "cell_type": "code",
   "execution_count": 105,
   "metadata": {
    "deletable": false,
    "editable": false,
    "nbgrader": {
     "cell_type": "code",
     "checksum": "15cd6dcdc12bf42a206b9e39d050c1b7",
     "grade": true,
     "grade_id": "poly_critical_linear",
     "locked": true,
     "points": 2,
     "schema_version": 3,
     "solution": false,
     "task": false
    }
   },
   "outputs": [
    {
     "name": "stdout",
     "output_type": "stream",
     "text": [
      "Bisection method fails.\n",
      "Problem 3 Test 1: Success!\n"
     ]
    }
   ],
   "source": [
    "\"Check that poly_critical returns the correct value when p(x) is linear.\"\n",
    "assert poly_critical([1,1],0,1,100) == None , \"Return value should be a None if p(x) is linear.\"\n",
    "print(\"Problem 3 Test 1: Success!\")"
   ]
  },
  {
   "cell_type": "code",
   "execution_count": 106,
   "metadata": {
    "deletable": false,
    "editable": false,
    "nbgrader": {
     "cell_type": "code",
     "checksum": "a46269d3f4a6b2b53ff3eb6790f1a4f1",
     "grade": true,
     "grade_id": "poly_critical_endpoints",
     "locked": true,
     "points": 2,
     "schema_version": 3,
     "solution": false,
     "task": false
    }
   },
   "outputs": [
    {
     "name": "stdout",
     "output_type": "stream",
     "text": [
      "Problem 3 Test 2: Success!\n"
     ]
    }
   ],
   "source": [
    "\"Check that poly_critical returns the correct value when critical points at the endpoints.\"\n",
    "epsilon = 10e-10\n",
    "assert abs(poly_critical([0,-3,0,1],0,1,100) - 1) < epsilon , \"Return values should be 1.0 when p(x) = x^3 - 3x and a=0, b=1.\"\n",
    "assert abs(poly_critical([0,-3,0,1],-1,0,100) - -1) < epsilon , \"Return values should be -1.0 when p(x) = x^3 - 3x and a=-1, b=0.\"\n",
    "print(\"Problem 3 Test 2: Success!\")"
   ]
  },
  {
   "cell_type": "code",
   "execution_count": 107,
   "metadata": {
    "deletable": false,
    "editable": false,
    "nbgrader": {
     "cell_type": "code",
     "checksum": "47a84e7c2f3f2ce79aaef5161932a71f",
     "grade": true,
     "grade_id": "poly_critical_value",
     "locked": true,
     "points": 2,
     "schema_version": 3,
     "solution": false,
     "task": false
    }
   },
   "outputs": [
    {
     "name": "stdout",
     "output_type": "stream",
     "text": [
      "Problem 3 Test 3: Success!\n"
     ]
    }
   ],
   "source": [
    "\"Check that poly_critical returns the correct datatype and value.\"\n",
    "epsilon = 10e-8\n",
    "assert abs(poly_critical([1,-1,0,0,0,1/5],0,2.1,30) - 1.0) <  epsilon , \"Return value should be 1.0 when p(x)=x^5/5-x+1.\"\n",
    "print(\"Problem 3 Test 3: Success!\")"
   ]
  },
  {
   "cell_type": "markdown",
   "metadata": {},
   "source": [
    "### Problem 4 (4 points)\n",
    "\n",
    "Given a finite sequence of number $[a_0,a_1,\\dots,a_n]$ (of length $n+1$), define a new finite sequence $[b_0,b_1,\\dots, b_n]$ by the recursive formula\n",
    "\n",
    "$$\n",
    "b_n = a_{n} + \\frac{1}{b_{n-1}}\n",
    "$$\n",
    "\n",
    "For example:\n",
    "\n",
    "\\begin{align*}\n",
    "b_0 &= a_0 \\\\\n",
    "b_1 &= a_{1} + \\frac{1}{b_0} = a_{1} + \\frac{1}{a_0} \\\\\n",
    "b_2 &= a_{2} + \\frac{1}{b_1} = a_2 + \\frac{1}{a_{1} + \\frac{1}{a_0}}\\\\\n",
    "b_3 &= a_{3} + \\frac{1}{b_2} = a_3 + \\frac{1}{a_2 + \\frac{1}{a_{1} + \\frac{1}{a_0}}} \\\\\n",
    "& \\vdots \\\\\n",
    "b_n &= a_{n} + \\frac{1}{b_{n-1}} = a_n + \\frac{1}{\\ddots + \\frac{1}{a_0}} \n",
    "\\end{align*}\n",
    "\n",
    "Write a function called `sequence_to_fraction` which takes one input parameter `a` (a Python list of positive integers $[a_0,a_1,\\dots,a_n]$) and returns the last number $b_n$ in the sequence defined above\n",
    "\n",
    "$$\n",
    "b_n = a_n + \\frac{1}{a_{n-1} + \\frac{1}{\\ddots + \\frac{1}{a_0}}}\n",
    "$$\n",
    "\n"
   ]
  },
  {
   "cell_type": "code",
   "execution_count": 108,
   "metadata": {
    "deletable": false,
    "nbgrader": {
     "cell_type": "code",
     "checksum": "d839df904259ddaa05a89c4914e382a5",
     "grade": false,
     "grade_id": "sequence_to_fraction",
     "locked": false,
     "schema_version": 3,
     "solution": true,
     "task": false
    }
   },
   "outputs": [],
   "source": [
    "def sequence_to_fraction(a):\n",
    "    b = [a[0]]\n",
    "    for n in range(1,len(a)):\n",
    "        b.append(1/b[n-1]+a[n])\n",
    "    return b[len(b)-1]"
   ]
  },
  {
   "cell_type": "code",
   "execution_count": 109,
   "metadata": {
    "deletable": false,
    "editable": false,
    "nbgrader": {
     "cell_type": "code",
     "checksum": "5bc2aebd99dc487d1b8355067460a15a",
     "grade": true,
     "grade_id": "sequence_to_fraction_type",
     "locked": true,
     "points": 1,
     "schema_version": 3,
     "solution": false,
     "task": false
    }
   },
   "outputs": [
    {
     "name": "stdout",
     "output_type": "stream",
     "text": [
      "Problem 4 Test 1: Success!\n"
     ]
    }
   ],
   "source": [
    "\"Check that sequence_to_values returns the correct datatype.\"\n",
    "assert type(sequence_to_fraction([1,1,1,1,1,1,1,1,1,1,1])) == float , \"Return value should be a float.\"\n",
    "print(\"Problem 4 Test 1: Success!\")"
   ]
  },
  {
   "cell_type": "code",
   "execution_count": 110,
   "metadata": {
    "deletable": false,
    "editable": false,
    "nbgrader": {
     "cell_type": "code",
     "checksum": "c7473b6b9cc8e084ffe83c8e43d29482",
     "grade": true,
     "grade_id": "sequence_to_fraction_values_1",
     "locked": true,
     "points": 1,
     "schema_version": 3,
     "solution": false,
     "task": false
    }
   },
   "outputs": [
    {
     "name": "stdout",
     "output_type": "stream",
     "text": [
      "Problem 4 Test 2: Success!\n"
     ]
    }
   ],
   "source": [
    "\"Check that sequence_to_values returns the correct values.\"\n",
    "assert abs(sequence_to_fraction([1,1,1]) - 1.5) < 10e-12\n",
    "print(\"Problem 4 Test 2: Success!\")"
   ]
  },
  {
   "cell_type": "code",
   "execution_count": 111,
   "metadata": {
    "deletable": false,
    "editable": false,
    "nbgrader": {
     "cell_type": "code",
     "checksum": "1c3a0451690cc5f2ff129a2fbdf90ee9",
     "grade": true,
     "grade_id": "sequence_to_fraction_values_2",
     "locked": true,
     "points": 1,
     "schema_version": 3,
     "solution": false,
     "task": false
    }
   },
   "outputs": [
    {
     "name": "stdout",
     "output_type": "stream",
     "text": [
      "Problem 4 Test 3: Success!\n"
     ]
    }
   ],
   "source": [
    "\"Check that sequence_to_values returns the correct values.\"\n",
    "epsilon = 10e-10\n",
    "assert abs(sequence_to_fraction([1,1,1,1,1,1,1,1,1,1,1]) - 1.6179775280898876) < epsilon\n",
    "print(\"Problem 4 Test 3: Success!\")"
   ]
  },
  {
   "cell_type": "code",
   "execution_count": 112,
   "metadata": {
    "deletable": false,
    "editable": false,
    "nbgrader": {
     "cell_type": "code",
     "checksum": "a61b0c8e71135cabb4e0583a149520ee",
     "grade": true,
     "grade_id": "sequence_to_fraction_values_3",
     "locked": true,
     "points": 1,
     "schema_version": 3,
     "solution": false,
     "task": false
    }
   },
   "outputs": [
    {
     "name": "stdout",
     "output_type": "stream",
     "text": [
      "Problem 4 Test 4: Success!\n"
     ]
    }
   ],
   "source": [
    "\"Check that sequence_to_values returns the correct values.\"\n",
    "epsilon = 10e-10\n",
    "assert abs(sequence_to_fraction([1,15,7,3]) - 3.1415929203539825) < epsilon\n",
    "print(\"Problem 4 Test 4: Success!\")"
   ]
  }
 ],
 "metadata": {
  "kernelspec": {
   "display_name": "Python 3",
   "language": "python",
   "name": "python3"
  },
  "language_info": {
   "codemirror_mode": {
    "name": "ipython",
    "version": 3
   },
   "file_extension": ".py",
   "mimetype": "text/x-python",
   "name": "python",
   "nbconvert_exporter": "python",
   "pygments_lexer": "ipython3",
   "version": "3.8.6"
  }
 },
 "nbformat": 4,
 "nbformat_minor": 2
}
